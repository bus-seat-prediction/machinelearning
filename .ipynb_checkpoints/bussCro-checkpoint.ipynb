{
 "cells": [
  {
   "cell_type": "code",
   "execution_count": 2,
   "id": "27f96d2a",
   "metadata": {},
   "outputs": [
    {
     "name": "stderr",
     "output_type": "stream",
     "text": [
      "C:\\Users\\eunhak\\AppData\\Local\\Temp/ipykernel_14860/2648755970.py:7: DeprecationWarning: executable_path has been deprecated, please pass in a Service object\n",
      "  driver =webdriver.Chrome('./chromedriver')\n",
      "C:\\Users\\eunhak\\AppData\\Local\\Temp/ipykernel_14860/2648755970.py:16: DeprecationWarning: find_element_by_* commands are deprecated. Please use find_element() instead\n",
      "  driver.find_element_by_id('searchFromDay').click()\n",
      "C:\\Users\\eunhak\\AppData\\Local\\Temp/ipykernel_14860/2648755970.py:18: DeprecationWarning: find_element_by_xpath is deprecated. Please use find_element(by=By.XPATH, value=xpath) instead\n",
      "  driver.find_element_by_xpath('//*[@id=\"divRouteAear\"]/li[1]').click()\n",
      "C:\\Users\\eunhak\\AppData\\Local\\Temp/ipykernel_14860/2648755970.py:19: DeprecationWarning: find_element_by_* commands are deprecated. Please use find_element() instead\n",
      "  driver.find_element_by_id('searchPopZoneSd').click()\n",
      "C:\\Users\\eunhak\\AppData\\Local\\Temp/ipykernel_14860/2648755970.py:30: DeprecationWarning: find_element_by_* commands are deprecated. Please use find_element() instead\n",
      "  driver.find_element_by_id('popupSearchRouteNo').clear()\n",
      "C:\\Users\\eunhak\\AppData\\Local\\Temp/ipykernel_14860/2648755970.py:31: DeprecationWarning: find_element_by_* commands are deprecated. Please use find_element() instead\n",
      "  driver.find_element_by_id('popupSearchRouteNo').click()\n",
      "C:\\Users\\eunhak\\AppData\\Local\\Temp/ipykernel_14860/2648755970.py:32: DeprecationWarning: find_element_by_xpath is deprecated. Please use find_element(by=By.XPATH, value=xpath) instead\n",
      "  search_box = driver.find_element_by_xpath('//*[@id=\"popupSearchRouteNo\"]')\n",
      "C:\\Users\\eunhak\\AppData\\Local\\Temp/ipykernel_14860/2648755970.py:34: DeprecationWarning: find_element_by_xpath is deprecated. Please use find_element(by=By.XPATH, value=xpath) instead\n",
      "  search_button = driver.find_element_by_xpath('//*[@id=\"route_space1\"]/li[1]/button')\n",
      "C:\\Users\\eunhak\\AppData\\Local\\Temp/ipykernel_14860/2648755970.py:38: DeprecationWarning: find_element_by_xpath is deprecated. Please use find_element(by=By.XPATH, value=xpath) instead\n",
      "  table = driver.find_element_by_xpath('//*[@id=\"divBusLineList\"]/div[1]/table/tbody')\n"
     ]
    },
    {
     "name": "stdout",
     "output_type": "stream",
     "text": [
      "[True]\n",
      "[0]\n",
      "chkBusLine1\n"
     ]
    },
    {
     "name": "stderr",
     "output_type": "stream",
     "text": [
      "C:\\Users\\eunhak\\AppData\\Local\\Temp/ipykernel_14860/2648755970.py:59: DeprecationWarning: find_element_by_css_selector is deprecated. Please use find_element(by=By.CSS_SELECTOR, value=css_selector) instead\n",
      "  driver.find_element_by_css_selector(\"#divBusLineList > div.pop_box > table > tbody > tr:nth-child(\"+i+\") > td:nth-child(1) > div > label > div\").click()\n",
      "C:\\Users\\eunhak\\AppData\\Local\\Temp/ipykernel_14860/2648755970.py:61: DeprecationWarning: find_element_by_css_selector is deprecated. Please use find_element(by=By.CSS_SELECTOR, value=css_selector) instead\n",
      "  driver.find_element_by_css_selector(\"#popupBusLine > div:nth-child(4) > button\").click()\n",
      "C:\\Users\\eunhak\\AppData\\Local\\Temp/ipykernel_14860/2648755970.py:62: DeprecationWarning: find_element_by_css_selector is deprecated. Please use find_element(by=By.CSS_SELECTOR, value=css_selector) instead\n",
      "  driver.find_element_by_css_selector(\"#popupBusLine > button\").click()\n"
     ]
    },
    {
     "name": "stdout",
     "output_type": "stream",
     "text": [
      "[True]\n",
      "[0]\n",
      "chkBusLine1\n",
      "[True]\n",
      "[0]\n",
      "chkBusLine1\n",
      "[True]\n",
      "[0]\n",
      "chkBusLine1\n",
      "[True, False, False, False, False, False]\n",
      "[0]\n",
      "chkBusLine1\n",
      "[True]\n",
      "[0]\n",
      "chkBusLine1\n",
      "[True, False]\n",
      "[0]\n",
      "chkBusLine1\n",
      "[True]\n",
      "[0]\n",
      "chkBusLine1\n",
      "[True]\n",
      "[0]\n",
      "chkBusLine1\n",
      "[True]\n",
      "[0]\n",
      "chkBusLine1\n",
      "[True]\n",
      "[0]\n",
      "chkBusLine1\n",
      "[True]\n",
      "[0]\n",
      "chkBusLine1\n",
      "[True]\n",
      "[0]\n",
      "chkBusLine1\n",
      "[True]\n",
      "[0]\n",
      "chkBusLine1\n",
      "[True]\n",
      "[0]\n",
      "chkBusLine1\n",
      "[True]\n",
      "[0]\n",
      "chkBusLine1\n",
      "[True]\n",
      "[0]\n",
      "chkBusLine1\n",
      "[True]\n",
      "[0]\n",
      "chkBusLine1\n"
     ]
    },
    {
     "ename": "NoSuchElementException",
     "evalue": "Message: no such element: Unable to locate element: {\"method\":\"xpath\",\"selector\":\"//*[@id=\"divBusLineList\"]/div[1]/table/tbody\"}\n  (Session info: chrome=100.0.4896.75)\nStacktrace:\nBacktrace:\n\tOrdinal0 [0x00829943+2595139]\n\tOrdinal0 [0x007BC9F1+2148849]\n\tOrdinal0 [0x006B4528+1066280]\n\tOrdinal0 [0x006E0FD4+1249236]\n\tOrdinal0 [0x006E11CB+1249739]\n\tOrdinal0 [0x0070D812+1431570]\n\tOrdinal0 [0x006FBA34+1358388]\n\tOrdinal0 [0x0070BAF2+1424114]\n\tOrdinal0 [0x006FB806+1357830]\n\tOrdinal0 [0x006D6086+1204358]\n\tOrdinal0 [0x006D6F96+1208214]\n\tGetHandleVerifier [0x009CB232+1658114]\n\tGetHandleVerifier [0x00A8312C+2411516]\n\tGetHandleVerifier [0x008BF261+560433]\n\tGetHandleVerifier [0x008BE366+556598]\n\tOrdinal0 [0x007C286B+2173035]\n\tOrdinal0 [0x007C75F8+2192888]\n\tOrdinal0 [0x007C76E5+2193125]\n\tOrdinal0 [0x007D11FC+2232828]\n\tBaseThreadInitThunk [0x7765FA29+25]\n\tRtlGetAppContainerNamedObjectPath [0x77A27A7E+286]\n\tRtlGetAppContainerNamedObjectPath [0x77A27A4E+238]\n",
     "output_type": "error",
     "traceback": [
      "\u001b[1;31m---------------------------------------------------------------------------\u001b[0m",
      "\u001b[1;31mNoSuchElementException\u001b[0m                    Traceback (most recent call last)",
      "\u001b[1;32m~\\AppData\\Local\\Temp/ipykernel_14860/2648755970.py\u001b[0m in \u001b[0;36m<module>\u001b[1;34m\u001b[0m\n\u001b[0;32m     36\u001b[0m     \u001b[0mtime\u001b[0m\u001b[1;33m.\u001b[0m\u001b[0msleep\u001b[0m\u001b[1;33m(\u001b[0m\u001b[1;36m3\u001b[0m\u001b[1;33m)\u001b[0m \u001b[1;31m#움~ 기다려~\u001b[0m\u001b[1;33m\u001b[0m\u001b[1;33m\u001b[0m\u001b[0m\n\u001b[0;32m     37\u001b[0m \u001b[1;33m\u001b[0m\u001b[0m\n\u001b[1;32m---> 38\u001b[1;33m     \u001b[0mtable\u001b[0m \u001b[1;33m=\u001b[0m \u001b[0mdriver\u001b[0m\u001b[1;33m.\u001b[0m\u001b[0mfind_element_by_xpath\u001b[0m\u001b[1;33m(\u001b[0m\u001b[1;34m'//*[@id=\"divBusLineList\"]/div[1]/table/tbody'\u001b[0m\u001b[1;33m)\u001b[0m\u001b[1;33m\u001b[0m\u001b[1;33m\u001b[0m\u001b[0m\n\u001b[0m\u001b[0;32m     39\u001b[0m     \u001b[0monePageBusList\u001b[0m \u001b[1;33m=\u001b[0m \u001b[1;33m[\u001b[0m\u001b[1;33m]\u001b[0m\u001b[1;33m\u001b[0m\u001b[1;33m\u001b[0m\u001b[0m\n\u001b[0;32m     40\u001b[0m     \u001b[1;32mfor\u001b[0m \u001b[0mtr\u001b[0m \u001b[1;32min\u001b[0m \u001b[0mtable\u001b[0m\u001b[1;33m.\u001b[0m\u001b[0mfind_elements_by_tag_name\u001b[0m\u001b[1;33m(\u001b[0m\u001b[1;34m\"tr\"\u001b[0m\u001b[1;33m)\u001b[0m\u001b[1;33m:\u001b[0m\u001b[1;33m\u001b[0m\u001b[1;33m\u001b[0m\u001b[0m\n",
      "\u001b[1;32m~\\anaconda3\\lib\\site-packages\\selenium\\webdriver\\remote\\webdriver.py\u001b[0m in \u001b[0;36mfind_element_by_xpath\u001b[1;34m(self, xpath)\u001b[0m\n\u001b[0;32m    519\u001b[0m             \u001b[0mstacklevel\u001b[0m\u001b[1;33m=\u001b[0m\u001b[1;36m2\u001b[0m\u001b[1;33m,\u001b[0m\u001b[1;33m\u001b[0m\u001b[1;33m\u001b[0m\u001b[0m\n\u001b[0;32m    520\u001b[0m         )\n\u001b[1;32m--> 521\u001b[1;33m         \u001b[1;32mreturn\u001b[0m \u001b[0mself\u001b[0m\u001b[1;33m.\u001b[0m\u001b[0mfind_element\u001b[0m\u001b[1;33m(\u001b[0m\u001b[0mby\u001b[0m\u001b[1;33m=\u001b[0m\u001b[0mBy\u001b[0m\u001b[1;33m.\u001b[0m\u001b[0mXPATH\u001b[0m\u001b[1;33m,\u001b[0m \u001b[0mvalue\u001b[0m\u001b[1;33m=\u001b[0m\u001b[0mxpath\u001b[0m\u001b[1;33m)\u001b[0m\u001b[1;33m\u001b[0m\u001b[1;33m\u001b[0m\u001b[0m\n\u001b[0m\u001b[0;32m    522\u001b[0m \u001b[1;33m\u001b[0m\u001b[0m\n\u001b[0;32m    523\u001b[0m     \u001b[1;32mdef\u001b[0m \u001b[0mfind_elements_by_xpath\u001b[0m\u001b[1;33m(\u001b[0m\u001b[0mself\u001b[0m\u001b[1;33m,\u001b[0m \u001b[0mxpath\u001b[0m\u001b[1;33m)\u001b[0m \u001b[1;33m->\u001b[0m \u001b[0mList\u001b[0m\u001b[1;33m[\u001b[0m\u001b[0mWebElement\u001b[0m\u001b[1;33m]\u001b[0m\u001b[1;33m:\u001b[0m\u001b[1;33m\u001b[0m\u001b[1;33m\u001b[0m\u001b[0m\n",
      "\u001b[1;32m~\\anaconda3\\lib\\site-packages\\selenium\\webdriver\\remote\\webdriver.py\u001b[0m in \u001b[0;36mfind_element\u001b[1;34m(self, by, value)\u001b[0m\n\u001b[0;32m   1246\u001b[0m             \u001b[0mvalue\u001b[0m \u001b[1;33m=\u001b[0m \u001b[1;34m'[name=\"%s\"]'\u001b[0m \u001b[1;33m%\u001b[0m \u001b[0mvalue\u001b[0m\u001b[1;33m\u001b[0m\u001b[1;33m\u001b[0m\u001b[0m\n\u001b[0;32m   1247\u001b[0m \u001b[1;33m\u001b[0m\u001b[0m\n\u001b[1;32m-> 1248\u001b[1;33m         return self.execute(Command.FIND_ELEMENT, {\n\u001b[0m\u001b[0;32m   1249\u001b[0m             \u001b[1;34m'using'\u001b[0m\u001b[1;33m:\u001b[0m \u001b[0mby\u001b[0m\u001b[1;33m,\u001b[0m\u001b[1;33m\u001b[0m\u001b[1;33m\u001b[0m\u001b[0m\n\u001b[0;32m   1250\u001b[0m             'value': value})['value']\n",
      "\u001b[1;32m~\\anaconda3\\lib\\site-packages\\selenium\\webdriver\\remote\\webdriver.py\u001b[0m in \u001b[0;36mexecute\u001b[1;34m(self, driver_command, params)\u001b[0m\n\u001b[0;32m    423\u001b[0m         \u001b[0mresponse\u001b[0m \u001b[1;33m=\u001b[0m \u001b[0mself\u001b[0m\u001b[1;33m.\u001b[0m\u001b[0mcommand_executor\u001b[0m\u001b[1;33m.\u001b[0m\u001b[0mexecute\u001b[0m\u001b[1;33m(\u001b[0m\u001b[0mdriver_command\u001b[0m\u001b[1;33m,\u001b[0m \u001b[0mparams\u001b[0m\u001b[1;33m)\u001b[0m\u001b[1;33m\u001b[0m\u001b[1;33m\u001b[0m\u001b[0m\n\u001b[0;32m    424\u001b[0m         \u001b[1;32mif\u001b[0m \u001b[0mresponse\u001b[0m\u001b[1;33m:\u001b[0m\u001b[1;33m\u001b[0m\u001b[1;33m\u001b[0m\u001b[0m\n\u001b[1;32m--> 425\u001b[1;33m             \u001b[0mself\u001b[0m\u001b[1;33m.\u001b[0m\u001b[0merror_handler\u001b[0m\u001b[1;33m.\u001b[0m\u001b[0mcheck_response\u001b[0m\u001b[1;33m(\u001b[0m\u001b[0mresponse\u001b[0m\u001b[1;33m)\u001b[0m\u001b[1;33m\u001b[0m\u001b[1;33m\u001b[0m\u001b[0m\n\u001b[0m\u001b[0;32m    426\u001b[0m             response['value'] = self._unwrap_value(\n\u001b[0;32m    427\u001b[0m                 response.get('value', None))\n",
      "\u001b[1;32m~\\anaconda3\\lib\\site-packages\\selenium\\webdriver\\remote\\errorhandler.py\u001b[0m in \u001b[0;36mcheck_response\u001b[1;34m(self, response)\u001b[0m\n\u001b[0;32m    245\u001b[0m                 \u001b[0malert_text\u001b[0m \u001b[1;33m=\u001b[0m \u001b[0mvalue\u001b[0m\u001b[1;33m[\u001b[0m\u001b[1;34m'alert'\u001b[0m\u001b[1;33m]\u001b[0m\u001b[1;33m.\u001b[0m\u001b[0mget\u001b[0m\u001b[1;33m(\u001b[0m\u001b[1;34m'text'\u001b[0m\u001b[1;33m)\u001b[0m\u001b[1;33m\u001b[0m\u001b[1;33m\u001b[0m\u001b[0m\n\u001b[0;32m    246\u001b[0m             \u001b[1;32mraise\u001b[0m \u001b[0mexception_class\u001b[0m\u001b[1;33m(\u001b[0m\u001b[0mmessage\u001b[0m\u001b[1;33m,\u001b[0m \u001b[0mscreen\u001b[0m\u001b[1;33m,\u001b[0m \u001b[0mstacktrace\u001b[0m\u001b[1;33m,\u001b[0m \u001b[0malert_text\u001b[0m\u001b[1;33m)\u001b[0m  \u001b[1;31m# type: ignore[call-arg]  # mypy is not smart enough here\u001b[0m\u001b[1;33m\u001b[0m\u001b[1;33m\u001b[0m\u001b[0m\n\u001b[1;32m--> 247\u001b[1;33m         \u001b[1;32mraise\u001b[0m \u001b[0mexception_class\u001b[0m\u001b[1;33m(\u001b[0m\u001b[0mmessage\u001b[0m\u001b[1;33m,\u001b[0m \u001b[0mscreen\u001b[0m\u001b[1;33m,\u001b[0m \u001b[0mstacktrace\u001b[0m\u001b[1;33m)\u001b[0m\u001b[1;33m\u001b[0m\u001b[1;33m\u001b[0m\u001b[0m\n\u001b[0m\u001b[0;32m    248\u001b[0m \u001b[1;33m\u001b[0m\u001b[0m\n\u001b[0;32m    249\u001b[0m     \u001b[1;32mdef\u001b[0m \u001b[0m_value_or_default\u001b[0m\u001b[1;33m(\u001b[0m\u001b[0mself\u001b[0m\u001b[1;33m,\u001b[0m \u001b[0mobj\u001b[0m\u001b[1;33m:\u001b[0m \u001b[0mMapping\u001b[0m\u001b[1;33m[\u001b[0m\u001b[0m_KT\u001b[0m\u001b[1;33m,\u001b[0m \u001b[0m_VT\u001b[0m\u001b[1;33m]\u001b[0m\u001b[1;33m,\u001b[0m \u001b[0mkey\u001b[0m\u001b[1;33m:\u001b[0m \u001b[0m_KT\u001b[0m\u001b[1;33m,\u001b[0m \u001b[0mdefault\u001b[0m\u001b[1;33m:\u001b[0m \u001b[0m_VT\u001b[0m\u001b[1;33m)\u001b[0m \u001b[1;33m->\u001b[0m \u001b[0m_VT\u001b[0m\u001b[1;33m:\u001b[0m\u001b[1;33m\u001b[0m\u001b[1;33m\u001b[0m\u001b[0m\n",
      "\u001b[1;31mNoSuchElementException\u001b[0m: Message: no such element: Unable to locate element: {\"method\":\"xpath\",\"selector\":\"//*[@id=\"divBusLineList\"]/div[1]/table/tbody\"}\n  (Session info: chrome=100.0.4896.75)\nStacktrace:\nBacktrace:\n\tOrdinal0 [0x00829943+2595139]\n\tOrdinal0 [0x007BC9F1+2148849]\n\tOrdinal0 [0x006B4528+1066280]\n\tOrdinal0 [0x006E0FD4+1249236]\n\tOrdinal0 [0x006E11CB+1249739]\n\tOrdinal0 [0x0070D812+1431570]\n\tOrdinal0 [0x006FBA34+1358388]\n\tOrdinal0 [0x0070BAF2+1424114]\n\tOrdinal0 [0x006FB806+1357830]\n\tOrdinal0 [0x006D6086+1204358]\n\tOrdinal0 [0x006D6F96+1208214]\n\tGetHandleVerifier [0x009CB232+1658114]\n\tGetHandleVerifier [0x00A8312C+2411516]\n\tGetHandleVerifier [0x008BF261+560433]\n\tGetHandleVerifier [0x008BE366+556598]\n\tOrdinal0 [0x007C286B+2173035]\n\tOrdinal0 [0x007C75F8+2192888]\n\tOrdinal0 [0x007C76E5+2193125]\n\tOrdinal0 [0x007D11FC+2232828]\n\tBaseThreadInitThunk [0x7765FA29+25]\n\tRtlGetAppContainerNamedObjectPath [0x77A27A7E+286]\n\tRtlGetAppContainerNamedObjectPath [0x77A27A4E+238]\n"
     ]
    }
   ],
   "source": [
    "from selenium import webdriver\n",
    "import time\n",
    "import requests\n",
    "# 크롬 드라이버 다운로드 https://chromedriver.chromium.org/downloads\n",
    "# 본인 크롬 버전이랑 맞게 다운 받으면 된대요!\n",
    "# 저는 지금 ipynb 파일이랑 같은 경로에 받아서 경로 저모양!\n",
    "driver =webdriver.Chrome('./chromedriver') \n",
    "\n",
    "driver.get('https://stcis.go.kr/pivotIndi/wpsPivotIndicator.do?siteGb=P&indiClss=IC03&indiSel=IC0303')\n",
    "url = \"https://stcis.go.kr/pivotIndi/wpsPivotIndicator.do?siteGb=P&indiClss=IC03&indiSel=IC0303\"\n",
    "\n",
    "#time.sleep 시간 조정은 편하신대로 하세요!\n",
    "\n",
    "#여기 지우면 클릭 잘 안돼요ㅠ-----------\n",
    "time.sleep(2) # 캘린더 뜰때까지 기다려주세요 \n",
    "driver.find_element_by_id('searchFromDay').click()\n",
    "time.sleep(2) #서울시 클릭\n",
    "driver.find_element_by_xpath('//*[@id=\"divRouteAear\"]/li[1]').click()\n",
    "driver.find_element_by_id('searchPopZoneSd').click()\n",
    "time.sleep(3)\n",
    "#------------------------\n",
    "\n",
    "# 여기에 버스 리스트 /종점으로 분류해야하는 애들은 따로 웹에서 넣어주세요!\n",
    "gan_12=[100, 101, 102, 103, 104, 105, 106, 107, 109, \"110A\", \"110B\", 111, 120, 121, 130, 140, 141, 142, 143, 144, 145, 146, 147, 148, 150, 151, 152, 153, 160, 162, 171, 172, 173, 201, 202, 240, 241, 242, 260, 261, 262, 270, 271, 272, 273]\n",
    "\n",
    "jisun_1 = [1014, 1017, 1020, 1111, 1113, 1114, 1115, 1116, 1119, 1120, 1122, 1124, 1126, 1127, 1128, 1129, 1130, 1131, 1135, 1136, 1137, 1138, 1139, 1140, 1141, 1142, 1143, 1144, 1154, 1155, 1156, 1162, 1164, 1165, 1167, 1213, 1218, 1221, 1222, 1224, 1226, 1227, 1711]\n",
    "#1132, 1133은 따로추가해줘야함\n",
    "\n",
    "for i in jisun_1:\n",
    "    i = str(i)\n",
    "    driver.find_element_by_id('popupSearchRouteNo').clear()\n",
    "    driver.find_element_by_id('popupSearchRouteNo').click()\n",
    "    search_box = driver.find_element_by_xpath('//*[@id=\"popupSearchRouteNo\"]')\n",
    "    search_box.send_keys(i)\n",
    "    search_button = driver.find_element_by_xpath('//*[@id=\"route_space1\"]/li[1]/button')\n",
    "    search_button.click()\n",
    "    time.sleep(3) #움~ 기다려~\n",
    "\n",
    "    table = driver.find_element_by_xpath('//*[@id=\"divBusLineList\"]/div[1]/table/tbody')\n",
    "    onePageBusList = []\n",
    "    for tr in table.find_elements_by_tag_name(\"tr\"):\n",
    "        td = tr.find_elements_by_tag_name(\"td\")\n",
    "        selectBus =  td[1].text == i and td[2].text =='시내'\n",
    "        onePageBusList.append(selectBus)\n",
    "    print(onePageBusList)\n",
    "\n",
    "    selectBusList = []\n",
    "    n = -1\n",
    "    while True:\n",
    "        if onePageBusList[n+1:].count(True) == 0:\n",
    "            break\n",
    "        n += onePageBusList[n+1:].index(True) + 1\n",
    "        selectBusList.append(n)\n",
    "\n",
    "    print(selectBusList)\n",
    "    for i in selectBusList:\n",
    "        i = i+1\n",
    "        i = str(i)\n",
    "        print('chkBusLine'+i)\n",
    "        driver.find_element_by_css_selector(\"#divBusLineList > div.pop_box > table > tbody > tr:nth-child(\"+i+\") > td:nth-child(1) > div > label > div\").click()\n",
    "\n",
    "    driver.find_element_by_css_selector(\"#popupBusLine > div:nth-child(4) > button\").click()\n",
    "    driver.find_element_by_css_selector(\"#popupBusLine > button\").click()\n"
   ]
  },
  {
   "cell_type": "code",
   "execution_count": 2,
   "id": "ff517a8e",
   "metadata": {},
   "outputs": [
    {
     "name": "stdout",
     "output_type": "stream",
     "text": [
      "Collecting selenium\n",
      "  Using cached selenium-4.1.3-py3-none-any.whl (968 kB)\n",
      "Requirement already satisfied: urllib3[secure,socks]~=1.26 in c:\\users\\eunhak\\anaconda3\\lib\\site-packages (from selenium) (1.26.7)\n",
      "Collecting trio-websocket~=0.9\n",
      "  Using cached trio_websocket-0.9.2-py3-none-any.whl (16 kB)\n",
      "Collecting trio~=0.17\n",
      "  Using cached trio-0.20.0-py3-none-any.whl (359 kB)\n",
      "Collecting outcome\n",
      "  Using cached outcome-1.1.0-py2.py3-none-any.whl (9.7 kB)\n",
      "Requirement already satisfied: cffi>=1.14 in c:\\users\\eunhak\\anaconda3\\lib\\site-packages (from trio~=0.17->selenium) (1.14.6)\n",
      "Requirement already satisfied: attrs>=19.2.0 in c:\\users\\eunhak\\anaconda3\\lib\\site-packages (from trio~=0.17->selenium) (21.2.0)\n",
      "Requirement already satisfied: sniffio in c:\\users\\eunhak\\anaconda3\\lib\\site-packages (from trio~=0.17->selenium) (1.2.0)\n",
      "Requirement already satisfied: idna in c:\\users\\eunhak\\anaconda3\\lib\\site-packages (from trio~=0.17->selenium) (3.2)\n",
      "Requirement already satisfied: async-generator>=1.9 in c:\\users\\eunhak\\anaconda3\\lib\\site-packages (from trio~=0.17->selenium) (1.10)\n",
      "Requirement already satisfied: sortedcontainers in c:\\users\\eunhak\\anaconda3\\lib\\site-packages (from trio~=0.17->selenium) (2.4.0)\n",
      "Requirement already satisfied: pycparser in c:\\users\\eunhak\\anaconda3\\lib\\site-packages (from cffi>=1.14->trio~=0.17->selenium) (2.20)\n",
      "Collecting wsproto>=0.14\n",
      "  Using cached wsproto-1.1.0-py3-none-any.whl (24 kB)\n",
      "Requirement already satisfied: pyOpenSSL>=0.14 in c:\\users\\eunhak\\anaconda3\\lib\\site-packages (from urllib3[secure,socks]~=1.26->selenium) (21.0.0)\n",
      "Requirement already satisfied: cryptography>=1.3.4 in c:\\users\\eunhak\\anaconda3\\lib\\site-packages (from urllib3[secure,socks]~=1.26->selenium) (3.4.8)\n",
      "Requirement already satisfied: certifi in c:\\users\\eunhak\\anaconda3\\lib\\site-packages (from urllib3[secure,socks]~=1.26->selenium) (2021.10.8)\n",
      "Requirement already satisfied: PySocks!=1.5.7,<2.0,>=1.5.6 in c:\\users\\eunhak\\anaconda3\\lib\\site-packages (from urllib3[secure,socks]~=1.26->selenium) (1.7.1)\n",
      "Requirement already satisfied: six>=1.5.2 in c:\\users\\eunhak\\anaconda3\\lib\\site-packages (from pyOpenSSL>=0.14->urllib3[secure,socks]~=1.26->selenium) (1.16.0)\n",
      "Collecting h11<1,>=0.9.0\n",
      "  Using cached h11-0.13.0-py3-none-any.whl (58 kB)\n",
      "Installing collected packages: outcome, h11, wsproto, trio, trio-websocket, selenium\n",
      "Successfully installed h11-0.13.0 outcome-1.1.0 selenium-4.1.3 trio-0.20.0 trio-websocket-0.9.2 wsproto-1.1.0\n"
     ]
    }
   ],
   "source": [
    "!pip install selenium"
   ]
  },
  {
   "cell_type": "code",
   "execution_count": 76,
   "id": "4235a86b",
   "metadata": {},
   "outputs": [
    {
     "name": "stdout",
     "output_type": "stream",
     "text": [
      "광역 , 잠실광역환승센터 - 나루마을.한화꿈에그린2차\n",
      "\n"
     ]
    }
   ],
   "source": [
    "gan_345=[301,302,303,320,333,340,342,343,350,362,370,400,401,402,405,406,420,421,440,441,452,461,463,470,472,500,501,502,503,504,505,506,507,540,541,542,571]\n",
    "341 강동차고지\n",
    "360 북정역"
   ]
  }
 ],
 "metadata": {
  "kernelspec": {
   "display_name": "Python 3 (ipykernel)",
   "language": "python",
   "name": "python3"
  },
  "language_info": {
   "codemirror_mode": {
    "name": "ipython",
    "version": 3
   },
   "file_extension": ".py",
   "mimetype": "text/x-python",
   "name": "python",
   "nbconvert_exporter": "python",
   "pygments_lexer": "ipython3",
   "version": "3.9.7"
  }
 },
 "nbformat": 4,
 "nbformat_minor": 5
}
