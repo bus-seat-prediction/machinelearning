{
 "cells": [
  {
   "cell_type": "markdown",
   "metadata": {
    "id": "QpJUJia4IbVS"
   },
   "source": [
    "LSTM 기반의 삼성전자 주가 예측 예제\n",
    " - yahoo finance 에서 데이터 다운로드 후 3일(3MA), 5일(5MA) 가격이평선 추가"
   ]
  },
  {
   "cell_type": "code",
   "execution_count": 1,
   "metadata": {},
   "outputs": [
    {
     "name": "stdout",
     "output_type": "stream",
     "text": [
      "Requirement already satisfied: tensorflow in c:\\users\\eunhak\\anaconda3\\lib\\site-packages (2.8.0)\n",
      "Requirement already satisfied: six>=1.12.0 in c:\\users\\eunhak\\anaconda3\\lib\\site-packages (from tensorflow) (1.16.0)\n",
      "Requirement already satisfied: astunparse>=1.6.0 in c:\\users\\eunhak\\anaconda3\\lib\\site-packages (from tensorflow) (1.6.3)\n",
      "Requirement already satisfied: tensorboard<2.9,>=2.8 in c:\\users\\eunhak\\anaconda3\\lib\\site-packages (from tensorflow) (2.8.0)\n",
      "Requirement already satisfied: keras<2.9,>=2.8.0rc0 in c:\\users\\eunhak\\anaconda3\\lib\\site-packages (from tensorflow) (2.8.0)\n",
      "Requirement already satisfied: setuptools in c:\\users\\eunhak\\anaconda3\\lib\\site-packages (from tensorflow) (58.0.4)\n",
      "Requirement already satisfied: flatbuffers>=1.12 in c:\\users\\eunhak\\anaconda3\\lib\\site-packages (from tensorflow) (2.0)\n",
      "Requirement already satisfied: google-pasta>=0.1.1 in c:\\users\\eunhak\\anaconda3\\lib\\site-packages (from tensorflow) (0.2.0)\n",
      "Requirement already satisfied: numpy>=1.20 in c:\\users\\eunhak\\anaconda3\\lib\\site-packages (from tensorflow) (1.20.3)\n",
      "Requirement already satisfied: keras-preprocessing>=1.1.1 in c:\\users\\eunhak\\anaconda3\\lib\\site-packages (from tensorflow) (1.1.2)\n",
      "Requirement already satisfied: tensorflow-io-gcs-filesystem>=0.23.1 in c:\\users\\eunhak\\anaconda3\\lib\\site-packages (from tensorflow) (0.24.0)\n",
      "Requirement already satisfied: grpcio<2.0,>=1.24.3 in c:\\users\\eunhak\\anaconda3\\lib\\site-packages (from tensorflow) (1.44.0)\n",
      "Requirement already satisfied: h5py>=2.9.0 in c:\\users\\eunhak\\anaconda3\\lib\\site-packages (from tensorflow) (3.2.1)\n",
      "Requirement already satisfied: opt-einsum>=2.3.2 in c:\\users\\eunhak\\anaconda3\\lib\\site-packages (from tensorflow) (3.3.0)\n",
      "Requirement already satisfied: absl-py>=0.4.0 in c:\\users\\eunhak\\anaconda3\\lib\\site-packages (from tensorflow) (1.0.0)\n",
      "Requirement already satisfied: protobuf>=3.9.2 in c:\\users\\eunhak\\anaconda3\\lib\\site-packages (from tensorflow) (3.19.4)\n",
      "Requirement already satisfied: termcolor>=1.1.0 in c:\\users\\eunhak\\anaconda3\\lib\\site-packages (from tensorflow) (1.1.0)\n",
      "Requirement already satisfied: tf-estimator-nightly==2.8.0.dev2021122109 in c:\\users\\eunhak\\anaconda3\\lib\\site-packages (from tensorflow) (2.8.0.dev2021122109)\n",
      "Requirement already satisfied: wrapt>=1.11.0 in c:\\users\\eunhak\\anaconda3\\lib\\site-packages (from tensorflow) (1.12.1)\n",
      "Requirement already satisfied: typing-extensions>=3.6.6 in c:\\users\\eunhak\\anaconda3\\lib\\site-packages (from tensorflow) (3.10.0.2)\n",
      "Requirement already satisfied: gast>=0.2.1 in c:\\users\\eunhak\\anaconda3\\lib\\site-packages (from tensorflow) (0.5.3)\n",
      "Requirement already satisfied: libclang>=9.0.1 in c:\\users\\eunhak\\anaconda3\\lib\\site-packages (from tensorflow) (13.0.0)\n",
      "Requirement already satisfied: wheel<1.0,>=0.23.0 in c:\\users\\eunhak\\anaconda3\\lib\\site-packages (from astunparse>=1.6.0->tensorflow) (0.37.0)\n",
      "Requirement already satisfied: requests<3,>=2.21.0 in c:\\users\\eunhak\\anaconda3\\lib\\site-packages (from tensorboard<2.9,>=2.8->tensorflow) (2.26.0)\n",
      "Requirement already satisfied: google-auth-oauthlib<0.5,>=0.4.1 in c:\\users\\eunhak\\anaconda3\\lib\\site-packages (from tensorboard<2.9,>=2.8->tensorflow) (0.4.6)\n",
      "Requirement already satisfied: tensorboard-plugin-wit>=1.6.0 in c:\\users\\eunhak\\anaconda3\\lib\\site-packages (from tensorboard<2.9,>=2.8->tensorflow) (1.8.1)\n",
      "Requirement already satisfied: markdown>=2.6.8 in c:\\users\\eunhak\\anaconda3\\lib\\site-packages (from tensorboard<2.9,>=2.8->tensorflow) (3.3.6)\n",
      "Requirement already satisfied: werkzeug>=0.11.15 in c:\\users\\eunhak\\anaconda3\\lib\\site-packages (from tensorboard<2.9,>=2.8->tensorflow) (2.0.2)\n",
      "Requirement already satisfied: tensorboard-data-server<0.7.0,>=0.6.0 in c:\\users\\eunhak\\anaconda3\\lib\\site-packages (from tensorboard<2.9,>=2.8->tensorflow) (0.6.1)\n",
      "Requirement already satisfied: google-auth<3,>=1.6.3 in c:\\users\\eunhak\\anaconda3\\lib\\site-packages (from tensorboard<2.9,>=2.8->tensorflow) (2.6.2)\n",
      "Requirement already satisfied: cachetools<6.0,>=2.0.0 in c:\\users\\eunhak\\anaconda3\\lib\\site-packages (from google-auth<3,>=1.6.3->tensorboard<2.9,>=2.8->tensorflow) (5.0.0)\n",
      "Requirement already satisfied: pyasn1-modules>=0.2.1 in c:\\users\\eunhak\\anaconda3\\lib\\site-packages (from google-auth<3,>=1.6.3->tensorboard<2.9,>=2.8->tensorflow) (0.2.8)\n",
      "Requirement already satisfied: rsa<5,>=3.1.4 in c:\\users\\eunhak\\anaconda3\\lib\\site-packages (from google-auth<3,>=1.6.3->tensorboard<2.9,>=2.8->tensorflow) (4.8)\n",
      "Requirement already satisfied: requests-oauthlib>=0.7.0 in c:\\users\\eunhak\\anaconda3\\lib\\site-packages (from google-auth-oauthlib<0.5,>=0.4.1->tensorboard<2.9,>=2.8->tensorflow) (1.3.1)\n",
      "Requirement already satisfied: importlib-metadata>=4.4 in c:\\users\\eunhak\\anaconda3\\lib\\site-packages (from markdown>=2.6.8->tensorboard<2.9,>=2.8->tensorflow) (4.8.1)\n",
      "Requirement already satisfied: zipp>=0.5 in c:\\users\\eunhak\\anaconda3\\lib\\site-packages (from importlib-metadata>=4.4->markdown>=2.6.8->tensorboard<2.9,>=2.8->tensorflow) (3.6.0)\n",
      "Requirement already satisfied: pyasn1<0.5.0,>=0.4.6 in c:\\users\\eunhak\\anaconda3\\lib\\site-packages (from pyasn1-modules>=0.2.1->google-auth<3,>=1.6.3->tensorboard<2.9,>=2.8->tensorflow) (0.4.8)\n",
      "Requirement already satisfied: certifi>=2017.4.17 in c:\\users\\eunhak\\anaconda3\\lib\\site-packages (from requests<3,>=2.21.0->tensorboard<2.9,>=2.8->tensorflow) (2021.10.8)\n",
      "Requirement already satisfied: idna<4,>=2.5 in c:\\users\\eunhak\\anaconda3\\lib\\site-packages (from requests<3,>=2.21.0->tensorboard<2.9,>=2.8->tensorflow) (3.2)\n",
      "Requirement already satisfied: urllib3<1.27,>=1.21.1 in c:\\users\\eunhak\\anaconda3\\lib\\site-packages (from requests<3,>=2.21.0->tensorboard<2.9,>=2.8->tensorflow) (1.26.7)\n",
      "Requirement already satisfied: charset-normalizer~=2.0.0 in c:\\users\\eunhak\\anaconda3\\lib\\site-packages (from requests<3,>=2.21.0->tensorboard<2.9,>=2.8->tensorflow) (2.0.4)\n",
      "Requirement already satisfied: oauthlib>=3.0.0 in c:\\users\\eunhak\\anaconda3\\lib\\site-packages (from requests-oauthlib>=0.7.0->google-auth-oauthlib<0.5,>=0.4.1->tensorboard<2.9,>=2.8->tensorflow) (3.2.0)\n"
     ]
    }
   ],
   "source": [
    "!pip install tensorflow"
   ]
  },
  {
   "cell_type": "code",
   "execution_count": 1,
   "metadata": {
    "id": "Ah3M-kc3aZqy"
   },
   "outputs": [],
   "source": [
    "import tensorflow as tf\n",
    "import numpy as np\n",
    "import pandas as pd\n",
    "import matplotlib.pyplot as plt\n",
    "from tensorflow.keras.models import Sequential\n",
    "from tensorflow.keras.layers import LSTM, Dense, Dropout"
   ]
  },
  {
   "cell_type": "markdown",
   "metadata": {
    "id": "tU_3ujIh9_N0"
   },
   "source": [
    "데이터 불러오기"
   ]
  },
  {
   "cell_type": "code",
   "execution_count": 3,
   "metadata": {
    "colab": {
     "base_uri": "https://localhost:8080/",
     "height": 205
    },
    "id": "9srMq0M9fXwk",
    "outputId": "72209902-9844-4101-c2b1-357f643c3a57"
   },
   "outputs": [
    {
     "data": {
      "text/html": [
       "<div>\n",
       "<style scoped>\n",
       "    .dataframe tbody tr th:only-of-type {\n",
       "        vertical-align: middle;\n",
       "    }\n",
       "\n",
       "    .dataframe tbody tr th {\n",
       "        vertical-align: top;\n",
       "    }\n",
       "\n",
       "    .dataframe thead th {\n",
       "        text-align: right;\n",
       "    }\n",
       "</style>\n",
       "<table border=\"1\" class=\"dataframe\">\n",
       "  <thead>\n",
       "    <tr style=\"text-align: right;\">\n",
       "      <th></th>\n",
       "      <th>Unnamed: 0</th>\n",
       "      <th>1_한성여객종점</th>\n",
       "      <th>2_노원평생학습관</th>\n",
       "      <th>3_서울시립북서울미술관</th>\n",
       "      <th>4_중계역</th>\n",
       "      <th>5_중계역2번출구</th>\n",
       "      <th>6_중계3단지목련아파트</th>\n",
       "      <th>7_목련아파트상가</th>\n",
       "      <th>8_중계목화아파트4단지</th>\n",
       "      <th>9_노원경찰서</th>\n",
       "      <th>...</th>\n",
       "      <th>113_대진고등학교</th>\n",
       "      <th>114_서울온천</th>\n",
       "      <th>115_노원경찰서.혜성여고</th>\n",
       "      <th>116_하계현대아파트</th>\n",
       "      <th>117_롯데마트</th>\n",
       "      <th>118_상명초등학교</th>\n",
       "      <th>119_중계건영2차아파트</th>\n",
       "      <th>120_중계역</th>\n",
       "      <th>121_하계한신청구아파트</th>\n",
       "      <th>122_한성여객종점</th>\n",
       "    </tr>\n",
       "  </thead>\n",
       "  <tbody>\n",
       "    <tr>\n",
       "      <th>0</th>\n",
       "      <td>2022-03-02 04:00:00</td>\n",
       "      <td>4</td>\n",
       "      <td>0</td>\n",
       "      <td>2</td>\n",
       "      <td>4</td>\n",
       "      <td>4</td>\n",
       "      <td>8</td>\n",
       "      <td>11</td>\n",
       "      <td>13</td>\n",
       "      <td>16</td>\n",
       "      <td>...</td>\n",
       "      <td>0</td>\n",
       "      <td>0</td>\n",
       "      <td>0</td>\n",
       "      <td>0</td>\n",
       "      <td>0</td>\n",
       "      <td>0</td>\n",
       "      <td>0</td>\n",
       "      <td>0</td>\n",
       "      <td>0</td>\n",
       "      <td>0</td>\n",
       "    </tr>\n",
       "    <tr>\n",
       "      <th>1</th>\n",
       "      <td>2022-03-02 05:00:00</td>\n",
       "      <td>0</td>\n",
       "      <td>0</td>\n",
       "      <td>0</td>\n",
       "      <td>1</td>\n",
       "      <td>2</td>\n",
       "      <td>2</td>\n",
       "      <td>2</td>\n",
       "      <td>4</td>\n",
       "      <td>8</td>\n",
       "      <td>...</td>\n",
       "      <td>0</td>\n",
       "      <td>0</td>\n",
       "      <td>0</td>\n",
       "      <td>0</td>\n",
       "      <td>0</td>\n",
       "      <td>0</td>\n",
       "      <td>0</td>\n",
       "      <td>0</td>\n",
       "      <td>0</td>\n",
       "      <td>0</td>\n",
       "    </tr>\n",
       "    <tr>\n",
       "      <th>2</th>\n",
       "      <td>2022-03-02 06:00:00</td>\n",
       "      <td>0</td>\n",
       "      <td>0</td>\n",
       "      <td>2</td>\n",
       "      <td>1</td>\n",
       "      <td>3</td>\n",
       "      <td>5</td>\n",
       "      <td>8</td>\n",
       "      <td>12</td>\n",
       "      <td>17</td>\n",
       "      <td>...</td>\n",
       "      <td>4</td>\n",
       "      <td>3</td>\n",
       "      <td>2</td>\n",
       "      <td>1</td>\n",
       "      <td>0</td>\n",
       "      <td>0</td>\n",
       "      <td>0</td>\n",
       "      <td>0</td>\n",
       "      <td>0</td>\n",
       "      <td>0</td>\n",
       "    </tr>\n",
       "    <tr>\n",
       "      <th>3</th>\n",
       "      <td>2022-03-02 07:00:00</td>\n",
       "      <td>1</td>\n",
       "      <td>1</td>\n",
       "      <td>6</td>\n",
       "      <td>8</td>\n",
       "      <td>14</td>\n",
       "      <td>10</td>\n",
       "      <td>13</td>\n",
       "      <td>20</td>\n",
       "      <td>23</td>\n",
       "      <td>...</td>\n",
       "      <td>24</td>\n",
       "      <td>14</td>\n",
       "      <td>8</td>\n",
       "      <td>7</td>\n",
       "      <td>5</td>\n",
       "      <td>2</td>\n",
       "      <td>1</td>\n",
       "      <td>0</td>\n",
       "      <td>0</td>\n",
       "      <td>0</td>\n",
       "    </tr>\n",
       "    <tr>\n",
       "      <th>4</th>\n",
       "      <td>2022-03-02 08:00:00</td>\n",
       "      <td>1</td>\n",
       "      <td>1</td>\n",
       "      <td>2</td>\n",
       "      <td>1</td>\n",
       "      <td>8</td>\n",
       "      <td>9</td>\n",
       "      <td>14</td>\n",
       "      <td>15</td>\n",
       "      <td>19</td>\n",
       "      <td>...</td>\n",
       "      <td>15</td>\n",
       "      <td>12</td>\n",
       "      <td>8</td>\n",
       "      <td>7</td>\n",
       "      <td>5</td>\n",
       "      <td>4</td>\n",
       "      <td>2</td>\n",
       "      <td>0</td>\n",
       "      <td>0</td>\n",
       "      <td>0</td>\n",
       "    </tr>\n",
       "    <tr>\n",
       "      <th>...</th>\n",
       "      <td>...</td>\n",
       "      <td>...</td>\n",
       "      <td>...</td>\n",
       "      <td>...</td>\n",
       "      <td>...</td>\n",
       "      <td>...</td>\n",
       "      <td>...</td>\n",
       "      <td>...</td>\n",
       "      <td>...</td>\n",
       "      <td>...</td>\n",
       "      <td>...</td>\n",
       "      <td>...</td>\n",
       "      <td>...</td>\n",
       "      <td>...</td>\n",
       "      <td>...</td>\n",
       "      <td>...</td>\n",
       "      <td>...</td>\n",
       "      <td>...</td>\n",
       "      <td>...</td>\n",
       "      <td>...</td>\n",
       "      <td>...</td>\n",
       "    </tr>\n",
       "    <tr>\n",
       "      <th>331</th>\n",
       "      <td>2022-03-15 23:00:00</td>\n",
       "      <td>0</td>\n",
       "      <td>0</td>\n",
       "      <td>0</td>\n",
       "      <td>0</td>\n",
       "      <td>0</td>\n",
       "      <td>0</td>\n",
       "      <td>0</td>\n",
       "      <td>0</td>\n",
       "      <td>0</td>\n",
       "      <td>...</td>\n",
       "      <td>6</td>\n",
       "      <td>4</td>\n",
       "      <td>2</td>\n",
       "      <td>2</td>\n",
       "      <td>1</td>\n",
       "      <td>0</td>\n",
       "      <td>0</td>\n",
       "      <td>1</td>\n",
       "      <td>0</td>\n",
       "      <td>0</td>\n",
       "    </tr>\n",
       "    <tr>\n",
       "      <th>332</th>\n",
       "      <td>2022-03-16 00:00:00</td>\n",
       "      <td>0</td>\n",
       "      <td>0</td>\n",
       "      <td>0</td>\n",
       "      <td>0</td>\n",
       "      <td>0</td>\n",
       "      <td>0</td>\n",
       "      <td>0</td>\n",
       "      <td>0</td>\n",
       "      <td>0</td>\n",
       "      <td>...</td>\n",
       "      <td>0</td>\n",
       "      <td>0</td>\n",
       "      <td>0</td>\n",
       "      <td>0</td>\n",
       "      <td>0</td>\n",
       "      <td>0</td>\n",
       "      <td>0</td>\n",
       "      <td>0</td>\n",
       "      <td>0</td>\n",
       "      <td>0</td>\n",
       "    </tr>\n",
       "    <tr>\n",
       "      <th>333</th>\n",
       "      <td>2022-03-16 01:00:00</td>\n",
       "      <td>0</td>\n",
       "      <td>0</td>\n",
       "      <td>0</td>\n",
       "      <td>0</td>\n",
       "      <td>0</td>\n",
       "      <td>0</td>\n",
       "      <td>0</td>\n",
       "      <td>0</td>\n",
       "      <td>0</td>\n",
       "      <td>...</td>\n",
       "      <td>0</td>\n",
       "      <td>0</td>\n",
       "      <td>0</td>\n",
       "      <td>0</td>\n",
       "      <td>0</td>\n",
       "      <td>0</td>\n",
       "      <td>0</td>\n",
       "      <td>0</td>\n",
       "      <td>0</td>\n",
       "      <td>0</td>\n",
       "    </tr>\n",
       "    <tr>\n",
       "      <th>334</th>\n",
       "      <td>2022-03-16 02:00:00</td>\n",
       "      <td>0</td>\n",
       "      <td>0</td>\n",
       "      <td>0</td>\n",
       "      <td>0</td>\n",
       "      <td>0</td>\n",
       "      <td>0</td>\n",
       "      <td>0</td>\n",
       "      <td>0</td>\n",
       "      <td>0</td>\n",
       "      <td>...</td>\n",
       "      <td>0</td>\n",
       "      <td>0</td>\n",
       "      <td>0</td>\n",
       "      <td>0</td>\n",
       "      <td>0</td>\n",
       "      <td>0</td>\n",
       "      <td>0</td>\n",
       "      <td>0</td>\n",
       "      <td>0</td>\n",
       "      <td>0</td>\n",
       "    </tr>\n",
       "    <tr>\n",
       "      <th>335</th>\n",
       "      <td>2022-03-16 03:00:00</td>\n",
       "      <td>0</td>\n",
       "      <td>0</td>\n",
       "      <td>0</td>\n",
       "      <td>0</td>\n",
       "      <td>0</td>\n",
       "      <td>0</td>\n",
       "      <td>0</td>\n",
       "      <td>0</td>\n",
       "      <td>0</td>\n",
       "      <td>...</td>\n",
       "      <td>0</td>\n",
       "      <td>0</td>\n",
       "      <td>0</td>\n",
       "      <td>0</td>\n",
       "      <td>0</td>\n",
       "      <td>0</td>\n",
       "      <td>0</td>\n",
       "      <td>0</td>\n",
       "      <td>0</td>\n",
       "      <td>0</td>\n",
       "    </tr>\n",
       "  </tbody>\n",
       "</table>\n",
       "<p>336 rows × 123 columns</p>\n",
       "</div>"
      ],
      "text/plain": [
       "              Unnamed: 0  1_한성여객종점  2_노원평생학습관  3_서울시립북서울미술관  4_중계역  5_중계역2번출구  \\\n",
       "0    2022-03-02 04:00:00         4          0             2      4          4   \n",
       "1    2022-03-02 05:00:00         0          0             0      1          2   \n",
       "2    2022-03-02 06:00:00         0          0             2      1          3   \n",
       "3    2022-03-02 07:00:00         1          1             6      8         14   \n",
       "4    2022-03-02 08:00:00         1          1             2      1          8   \n",
       "..                   ...       ...        ...           ...    ...        ...   \n",
       "331  2022-03-15 23:00:00         0          0             0      0          0   \n",
       "332  2022-03-16 00:00:00         0          0             0      0          0   \n",
       "333  2022-03-16 01:00:00         0          0             0      0          0   \n",
       "334  2022-03-16 02:00:00         0          0             0      0          0   \n",
       "335  2022-03-16 03:00:00         0          0             0      0          0   \n",
       "\n",
       "     6_중계3단지목련아파트  7_목련아파트상가  8_중계목화아파트4단지  9_노원경찰서  ...  113_대진고등학교  \\\n",
       "0               8         11            13       16  ...           0   \n",
       "1               2          2             4        8  ...           0   \n",
       "2               5          8            12       17  ...           4   \n",
       "3              10         13            20       23  ...          24   \n",
       "4               9         14            15       19  ...          15   \n",
       "..            ...        ...           ...      ...  ...         ...   \n",
       "331             0          0             0        0  ...           6   \n",
       "332             0          0             0        0  ...           0   \n",
       "333             0          0             0        0  ...           0   \n",
       "334             0          0             0        0  ...           0   \n",
       "335             0          0             0        0  ...           0   \n",
       "\n",
       "     114_서울온천  115_노원경찰서.혜성여고  116_하계현대아파트  117_롯데마트  118_상명초등학교  \\\n",
       "0           0               0            0         0           0   \n",
       "1           0               0            0         0           0   \n",
       "2           3               2            1         0           0   \n",
       "3          14               8            7         5           2   \n",
       "4          12               8            7         5           4   \n",
       "..        ...             ...          ...       ...         ...   \n",
       "331         4               2            2         1           0   \n",
       "332         0               0            0         0           0   \n",
       "333         0               0            0         0           0   \n",
       "334         0               0            0         0           0   \n",
       "335         0               0            0         0           0   \n",
       "\n",
       "     119_중계건영2차아파트  120_중계역  121_하계한신청구아파트  122_한성여객종점  \n",
       "0                0        0              0           0  \n",
       "1                0        0              0           0  \n",
       "2                0        0              0           0  \n",
       "3                1        0              0           0  \n",
       "4                2        0              0           0  \n",
       "..             ...      ...            ...         ...  \n",
       "331              0        1              0           0  \n",
       "332              0        0              0           0  \n",
       "333              0        0              0           0  \n",
       "334              0        0              0           0  \n",
       "335              0        0              0           0  \n",
       "\n",
       "[336 rows x 123 columns]"
      ]
     },
     "execution_count": 3,
     "metadata": {},
     "output_type": "execute_result"
    }
   ],
   "source": [
    "raw_df = pd.read_csv('./20220302_20220315_100.csv')  # yahoo finance 로부터 데이터 다운로드\n",
    "\n",
    "raw_df"
   ]
  },
  {
   "cell_type": "code",
   "execution_count": 5,
   "metadata": {
    "colab": {
     "base_uri": "https://localhost:8080/",
     "height": 295
    },
    "id": "d1lsO_jInckj",
    "outputId": "e067ba8f-3671-49a6-a7ff-64263784cab5"
   },
   "outputs": [
    {
     "data": {
      "image/png": "[encoded data removed]",
      "text/plain": [
       "<Figure size 432x288 with 1 Axes>"
      ]
     },
     "metadata": {
      "needs_background": "light"
     },
     "output_type": "display_data"
    }
   ],
   "source": [
    "plt.title('SAMSUNG ELECTRONIC STCOK PRICE')\n",
    "plt.ylabel('price')\n",
    "plt.xlabel('period')\n",
    "plt.grid()\n",
    "\n",
    "plt.plot(raw_df['6_중계3단지목련아파트'], label='Adj Close')\n",
    "\n",
    "plt.show()"
   ]
  },
  {
   "cell_type": "markdown",
   "metadata": {
    "id": "iQtB5ixT-KZt"
   },
   "source": [
    "데이터 전처리 (Missing Data 처리, 정규화 등)"
   ]
  },
  {
   "cell_type": "code",
   "execution_count": 8,
   "metadata": {
    "colab": {
     "base_uri": "https://localhost:8080/",
     "height": 319
    },
    "id": "LtXkxvPchBSW",
    "outputId": "9a8939d0-fc21-4fce-cb55-d8dfb7ce9218"
   },
   "outputs": [
    {
     "data": {
      "text/html": [
       "<div>\n",
       "<style scoped>\n",
       "    .dataframe tbody tr th:only-of-type {\n",
       "        vertical-align: middle;\n",
       "    }\n",
       "\n",
       "    .dataframe tbody tr th {\n",
       "        vertical-align: top;\n",
       "    }\n",
       "\n",
       "    .dataframe thead th {\n",
       "        text-align: right;\n",
       "    }\n",
       "</style>\n",
       "<table border=\"1\" class=\"dataframe\">\n",
       "  <thead>\n",
       "    <tr style=\"text-align: right;\">\n",
       "      <th></th>\n",
       "      <th>1_한성여객종점</th>\n",
       "      <th>2_노원평생학습관</th>\n",
       "      <th>3_서울시립북서울미술관</th>\n",
       "      <th>4_중계역</th>\n",
       "      <th>5_중계역2번출구</th>\n",
       "      <th>6_중계3단지목련아파트</th>\n",
       "      <th>7_목련아파트상가</th>\n",
       "      <th>8_중계목화아파트4단지</th>\n",
       "      <th>9_노원경찰서</th>\n",
       "      <th>10_하계1동주민센터</th>\n",
       "      <th>...</th>\n",
       "      <th>113_대진고등학교</th>\n",
       "      <th>114_서울온천</th>\n",
       "      <th>115_노원경찰서.혜성여고</th>\n",
       "      <th>116_하계현대아파트</th>\n",
       "      <th>117_롯데마트</th>\n",
       "      <th>118_상명초등학교</th>\n",
       "      <th>119_중계건영2차아파트</th>\n",
       "      <th>120_중계역</th>\n",
       "      <th>121_하계한신청구아파트</th>\n",
       "      <th>122_한성여객종점</th>\n",
       "    </tr>\n",
       "  </thead>\n",
       "  <tbody>\n",
       "    <tr>\n",
       "      <th>count</th>\n",
       "      <td>336.000000</td>\n",
       "      <td>336.000000</td>\n",
       "      <td>336.000000</td>\n",
       "      <td>336.000000</td>\n",
       "      <td>336.000000</td>\n",
       "      <td>336.000000</td>\n",
       "      <td>336.000000</td>\n",
       "      <td>336.000000</td>\n",
       "      <td>336.000000</td>\n",
       "      <td>336.000000</td>\n",
       "      <td>...</td>\n",
       "      <td>336.000000</td>\n",
       "      <td>336.000000</td>\n",
       "      <td>336.000000</td>\n",
       "      <td>336.000000</td>\n",
       "      <td>336.000000</td>\n",
       "      <td>336.000000</td>\n",
       "      <td>336.000000</td>\n",
       "      <td>336.000000</td>\n",
       "      <td>336.000000</td>\n",
       "      <td>336.0</td>\n",
       "    </tr>\n",
       "    <tr>\n",
       "      <th>mean</th>\n",
       "      <td>0.336310</td>\n",
       "      <td>0.279762</td>\n",
       "      <td>1.229167</td>\n",
       "      <td>1.464286</td>\n",
       "      <td>2.755952</td>\n",
       "      <td>2.761905</td>\n",
       "      <td>4.886905</td>\n",
       "      <td>5.770833</td>\n",
       "      <td>8.181548</td>\n",
       "      <td>8.720238</td>\n",
       "      <td>...</td>\n",
       "      <td>7.205357</td>\n",
       "      <td>5.630952</td>\n",
       "      <td>3.854167</td>\n",
       "      <td>2.660714</td>\n",
       "      <td>1.785714</td>\n",
       "      <td>1.205357</td>\n",
       "      <td>0.630952</td>\n",
       "      <td>0.255952</td>\n",
       "      <td>0.032738</td>\n",
       "      <td>0.0</td>\n",
       "    </tr>\n",
       "    <tr>\n",
       "      <th>std</th>\n",
       "      <td>0.747128</td>\n",
       "      <td>0.681750</td>\n",
       "      <td>1.610927</td>\n",
       "      <td>1.922041</td>\n",
       "      <td>2.662054</td>\n",
       "      <td>2.911097</td>\n",
       "      <td>3.694975</td>\n",
       "      <td>4.785973</td>\n",
       "      <td>6.442380</td>\n",
       "      <td>7.384878</td>\n",
       "      <td>...</td>\n",
       "      <td>6.130625</td>\n",
       "      <td>4.646372</td>\n",
       "      <td>3.261652</td>\n",
       "      <td>2.550576</td>\n",
       "      <td>1.794329</td>\n",
       "      <td>1.540334</td>\n",
       "      <td>0.933998</td>\n",
       "      <td>0.567761</td>\n",
       "      <td>0.209048</td>\n",
       "      <td>0.0</td>\n",
       "    </tr>\n",
       "    <tr>\n",
       "      <th>min</th>\n",
       "      <td>0.000000</td>\n",
       "      <td>0.000000</td>\n",
       "      <td>0.000000</td>\n",
       "      <td>0.000000</td>\n",
       "      <td>0.000000</td>\n",
       "      <td>0.000000</td>\n",
       "      <td>0.000000</td>\n",
       "      <td>0.000000</td>\n",
       "      <td>0.000000</td>\n",
       "      <td>0.000000</td>\n",
       "      <td>...</td>\n",
       "      <td>0.000000</td>\n",
       "      <td>0.000000</td>\n",
       "      <td>0.000000</td>\n",
       "      <td>0.000000</td>\n",
       "      <td>0.000000</td>\n",
       "      <td>0.000000</td>\n",
       "      <td>0.000000</td>\n",
       "      <td>0.000000</td>\n",
       "      <td>0.000000</td>\n",
       "      <td>0.0</td>\n",
       "    </tr>\n",
       "    <tr>\n",
       "      <th>25%</th>\n",
       "      <td>0.000000</td>\n",
       "      <td>0.000000</td>\n",
       "      <td>0.000000</td>\n",
       "      <td>0.000000</td>\n",
       "      <td>1.000000</td>\n",
       "      <td>0.000000</td>\n",
       "      <td>2.000000</td>\n",
       "      <td>1.750000</td>\n",
       "      <td>4.000000</td>\n",
       "      <td>3.000000</td>\n",
       "      <td>...</td>\n",
       "      <td>0.000000</td>\n",
       "      <td>0.000000</td>\n",
       "      <td>0.000000</td>\n",
       "      <td>0.000000</td>\n",
       "      <td>0.000000</td>\n",
       "      <td>0.000000</td>\n",
       "      <td>0.000000</td>\n",
       "      <td>0.000000</td>\n",
       "      <td>0.000000</td>\n",
       "      <td>0.0</td>\n",
       "    </tr>\n",
       "    <tr>\n",
       "      <th>50%</th>\n",
       "      <td>0.000000</td>\n",
       "      <td>0.000000</td>\n",
       "      <td>1.000000</td>\n",
       "      <td>1.000000</td>\n",
       "      <td>3.000000</td>\n",
       "      <td>2.000000</td>\n",
       "      <td>5.000000</td>\n",
       "      <td>6.000000</td>\n",
       "      <td>8.000000</td>\n",
       "      <td>8.000000</td>\n",
       "      <td>...</td>\n",
       "      <td>7.000000</td>\n",
       "      <td>6.000000</td>\n",
       "      <td>4.000000</td>\n",
       "      <td>2.000000</td>\n",
       "      <td>1.000000</td>\n",
       "      <td>1.000000</td>\n",
       "      <td>0.000000</td>\n",
       "      <td>0.000000</td>\n",
       "      <td>0.000000</td>\n",
       "      <td>0.0</td>\n",
       "    </tr>\n",
       "    <tr>\n",
       "      <th>75%</th>\n",
       "      <td>0.000000</td>\n",
       "      <td>0.000000</td>\n",
       "      <td>2.000000</td>\n",
       "      <td>2.000000</td>\n",
       "      <td>4.000000</td>\n",
       "      <td>4.000000</td>\n",
       "      <td>7.000000</td>\n",
       "      <td>8.250000</td>\n",
       "      <td>11.000000</td>\n",
       "      <td>12.000000</td>\n",
       "      <td>...</td>\n",
       "      <td>11.000000</td>\n",
       "      <td>9.000000</td>\n",
       "      <td>6.000000</td>\n",
       "      <td>4.000000</td>\n",
       "      <td>3.000000</td>\n",
       "      <td>2.000000</td>\n",
       "      <td>1.000000</td>\n",
       "      <td>0.000000</td>\n",
       "      <td>0.000000</td>\n",
       "      <td>0.0</td>\n",
       "    </tr>\n",
       "    <tr>\n",
       "      <th>max</th>\n",
       "      <td>5.000000</td>\n",
       "      <td>4.000000</td>\n",
       "      <td>15.000000</td>\n",
       "      <td>16.000000</td>\n",
       "      <td>17.000000</td>\n",
       "      <td>17.000000</td>\n",
       "      <td>20.000000</td>\n",
       "      <td>22.000000</td>\n",
       "      <td>31.000000</td>\n",
       "      <td>34.000000</td>\n",
       "      <td>...</td>\n",
       "      <td>24.000000</td>\n",
       "      <td>21.000000</td>\n",
       "      <td>15.000000</td>\n",
       "      <td>12.000000</td>\n",
       "      <td>9.000000</td>\n",
       "      <td>7.000000</td>\n",
       "      <td>6.000000</td>\n",
       "      <td>3.000000</td>\n",
       "      <td>2.000000</td>\n",
       "      <td>0.0</td>\n",
       "    </tr>\n",
       "  </tbody>\n",
       "</table>\n",
       "<p>8 rows × 122 columns</p>\n",
       "</div>"
      ],
      "text/plain": [
       "         1_한성여객종점   2_노원평생학습관  3_서울시립북서울미술관       4_중계역   5_중계역2번출구  \\\n",
       "count  336.000000  336.000000    336.000000  336.000000  336.000000   \n",
       "mean     0.336310    0.279762      1.229167    1.464286    2.755952   \n",
       "std      0.747128    0.681750      1.610927    1.922041    2.662054   \n",
       "min      0.000000    0.000000      0.000000    0.000000    0.000000   \n",
       "25%      0.000000    0.000000      0.000000    0.000000    1.000000   \n",
       "50%      0.000000    0.000000      1.000000    1.000000    3.000000   \n",
       "75%      0.000000    0.000000      2.000000    2.000000    4.000000   \n",
       "max      5.000000    4.000000     15.000000   16.000000   17.000000   \n",
       "\n",
       "       6_중계3단지목련아파트   7_목련아파트상가  8_중계목화아파트4단지     9_노원경찰서  10_하계1동주민센터  ...  \\\n",
       "count    336.000000  336.000000    336.000000  336.000000   336.000000  ...   \n",
       "mean       2.761905    4.886905      5.770833    8.181548     8.720238  ...   \n",
       "std        2.911097    3.694975      4.785973    6.442380     7.384878  ...   \n",
       "min        0.000000    0.000000      0.000000    0.000000     0.000000  ...   \n",
       "25%        0.000000    2.000000      1.750000    4.000000     3.000000  ...   \n",
       "50%        2.000000    5.000000      6.000000    8.000000     8.000000  ...   \n",
       "75%        4.000000    7.000000      8.250000   11.000000    12.000000  ...   \n",
       "max       17.000000   20.000000     22.000000   31.000000    34.000000  ...   \n",
       "\n",
       "       113_대진고등학교    114_서울온천  115_노원경찰서.혜성여고  116_하계현대아파트    117_롯데마트  \\\n",
       "count  336.000000  336.000000      336.000000   336.000000  336.000000   \n",
       "mean     7.205357    5.630952        3.854167     2.660714    1.785714   \n",
       "std      6.130625    4.646372        3.261652     2.550576    1.794329   \n",
       "min      0.000000    0.000000        0.000000     0.000000    0.000000   \n",
       "25%      0.000000    0.000000        0.000000     0.000000    0.000000   \n",
       "50%      7.000000    6.000000        4.000000     2.000000    1.000000   \n",
       "75%     11.000000    9.000000        6.000000     4.000000    3.000000   \n",
       "max     24.000000   21.000000       15.000000    12.000000    9.000000   \n",
       "\n",
       "       118_상명초등학교  119_중계건영2차아파트     120_중계역  121_하계한신청구아파트  122_한성여객종점  \n",
       "count  336.000000     336.000000  336.000000     336.000000       336.0  \n",
       "mean     1.205357       0.630952    0.255952       0.032738         0.0  \n",
       "std      1.540334       0.933998    0.567761       0.209048         0.0  \n",
       "min      0.000000       0.000000    0.000000       0.000000         0.0  \n",
       "25%      0.000000       0.000000    0.000000       0.000000         0.0  \n",
       "50%      1.000000       0.000000    0.000000       0.000000         0.0  \n",
       "75%      2.000000       1.000000    0.000000       0.000000         0.0  \n",
       "max      7.000000       6.000000    3.000000       2.000000         0.0  \n",
       "\n",
       "[8 rows x 122 columns]"
      ]
     },
     "execution_count": 8,
     "metadata": {},
     "output_type": "execute_result"
    }
   ],
   "source": [
    "# 통계정보 확인\n",
    "\n",
    "raw_df.describe()"
   ]
  },
  {
   "cell_type": "code",
   "execution_count": 9,
   "metadata": {
    "colab": {
     "base_uri": "https://localhost:8080/"
    },
    "id": "ExtqrJEXWjBS",
    "outputId": "8ca376cd-0ac2-4d75-8294-677768660240"
   },
   "outputs": [
    {
     "data": {
      "text/plain": [
       "Unnamed: 0       0\n",
       "1_한성여객종점         0\n",
       "2_노원평생학습관        0\n",
       "3_서울시립북서울미술관     0\n",
       "4_중계역            0\n",
       "                ..\n",
       "118_상명초등학교       0\n",
       "119_중계건영2차아파트    0\n",
       "120_중계역          0\n",
       "121_하계한신청구아파트    0\n",
       "122_한성여객종점       0\n",
       "Length: 123, dtype: int64"
      ]
     },
     "execution_count": 9,
     "metadata": {},
     "output_type": "execute_result"
    }
   ],
   "source": [
    "# Missing Data 확인\n",
    "\n",
    "raw_df.isnull().sum()"
   ]
  },
  {
   "cell_type": "code",
   "execution_count": 10,
   "metadata": {
    "colab": {
     "base_uri": "https://localhost:8080/"
    },
    "id": "eJKlSQjlxvgj",
    "outputId": "86e6287c-e567-4f3c-c839-520fefc809c1"
   },
   "outputs": [
    {
     "name": "stdout",
     "output_type": "stream",
     "text": [
      "1_한성여객종점 <class 'str'>\n",
      "2_노원평생학습관 <class 'str'>\n",
      "3_서울시립북서울미술관 <class 'str'>\n",
      "4_중계역 <class 'str'>\n",
      "5_중계역2번출구 <class 'str'>\n",
      "6_중계3단지목련아파트 <class 'str'>\n",
      "7_목련아파트상가 <class 'str'>\n",
      "8_중계목화아파트4단지 <class 'str'>\n",
      "9_노원경찰서 <class 'str'>\n",
      "10_하계1동주민센터 <class 'str'>\n",
      "11_골마을근린공원 <class 'str'>\n",
      "12_하계역 <class 'str'>\n",
      "13_하계우성아파트 <class 'str'>\n",
      "14_하계극동아파트 <class 'str'>\n",
      "15_월계보건지소 <class 'str'>\n",
      "16_인덕대학 <class 'str'>\n",
      "17_월계주공108동앞롯데캐슬루나아파트 <class 'str'>\n",
      "18_오현초등학교 <class 'str'>\n",
      "19_꿈의숲주차장입구 <class 'str'>\n",
      "20_북서울꿈의숲 <class 'str'>\n",
      "21_송중동한일유엔아이 <class 'str'>\n",
      "22_창문여고앞 <class 'str'>\n",
      "23_숭곡초등학교입구 <class 'str'>\n",
      "24_월곡뉴타운 <class 'str'>\n",
      "25_길음뉴타운 <class 'str'>\n",
      "26_미아리고개.미아리예술극장 <class 'str'>\n",
      "27_돈암사거리.성신여대입구 <class 'str'>\n",
      "28_삼선교.한성대학교 <class 'str'>\n",
      "29_혜화동로터리.여운형활동터 <class 'str'>\n",
      "30_명륜3가.성대입구 <class 'str'>\n",
      "31_창경궁.서울대학교병원 <class 'str'>\n",
      "32_원남동 <class 'str'>\n",
      "33_광장시장 <class 'str'>\n",
      "34_을지로4가 <class 'str'>\n",
      "35_을지로3가 <class 'str'>\n",
      "36_을지로2가.기업은행본점.서울노동청 <class 'str'>\n",
      "37_롯데백화점 <class 'str'>\n",
      "38_북창동.남대문시장 <class 'str'>\n",
      "39_숭례문(가상) <class 'str'>\n",
      "40_숭례문 <class 'str'>\n",
      "41_서울역버스환승센터 <class 'str'>\n",
      "42_갈월동 <class 'str'>\n",
      "43_숙대입구역 <class 'str'>\n",
      "44_삼각지역 <class 'str'>\n",
      "45_KT용산지사 <class 'str'>\n",
      "46_신용산역 <class 'str'>\n",
      "47_한강대교북단.LG유플러스 <class 'str'>\n",
      "48_이촌동동부센트레빌 <class 'str'>\n",
      "49_이촌1동충신교회앞 <class 'str'>\n",
      "50_이촌동한강맨션.이촌역 <class 'str'>\n",
      "51_신용산초등학교 <class 'str'>\n",
      "52_이촌동점보아파트 <class 'str'>\n",
      "53_금강병원.반도아파트 <class 'str'>\n",
      "54_서빙고신동아아파트 <class 'str'>\n",
      "55_서빙고역1번출구 <class 'str'>\n",
      "56_한강중학교 <class 'str'>\n",
      "57_용산구청.크라운호텔 <class 'str'>\n",
      "58_용산구청.크라운호텔 <class 'str'>\n",
      "59_한강중학교 <class 'str'>\n",
      "60_금호베스트빌앞 <class 'str'>\n",
      "61_서빙고초등학교 <class 'str'>\n",
      "62_서빙고역교차로 <class 'str'>\n",
      "63_서빙고역1번출구 <class 'str'>\n",
      "64_서빙고신동아아파트 <class 'str'>\n",
      "65_이촌동현대아파트 <class 'str'>\n",
      "66_이촌동강촌아파트 <class 'str'>\n",
      "67_신용산초등학교 <class 'str'>\n",
      "68_이촌동한가람아파트.이촌역 <class 'str'>\n",
      "69_이촌동두산위브트레지움.한강대우아파트 <class 'str'>\n",
      "70_한강대교북단.LG유플러스 <class 'str'>\n",
      "71_신용산역 <class 'str'>\n",
      "72_KT용산지사 <class 'str'>\n",
      "73_삼각지역 <class 'str'>\n",
      "74_숙대입구역 <class 'str'>\n",
      "75_갈월동 <class 'str'>\n",
      "76_서울역버스환승센터.강우규의거터 <class 'str'>\n",
      "77_남대문시장앞.이회영활동터 <class 'str'>\n",
      "78_롯데영프라자 <class 'str'>\n",
      "79_을지로입구.로얄호텔 <class 'str'>\n",
      "80_을지로2가.파인에빈뉴 <class 'str'>\n",
      "81_을지로3가 <class 'str'>\n",
      "82_을지로4가.베스트웨스턴국도 <class 'str'>\n",
      "83_을지로5가.중부시장 <class 'str'>\n",
      "84_을지로6가.국립중앙의료원 <class 'str'>\n",
      "85_광희동 <class 'str'>\n",
      "86_퇴계로6가 <class 'str'>\n",
      "87_을지로5가.훈련원종합체육관 <class 'str'>\n",
      "88_방산시장.훈련원종합체육관 <class 'str'>\n",
      "89_종로5가 <class 'str'>\n",
      "90_종로5가.효제초등학교 <class 'str'>\n",
      "91_종로5가.효제동.김상옥의거터 <class 'str'>\n",
      "92_방송통신대.이화장 <class 'str'>\n",
      "93_혜화역.마로니에공원 <class 'str'>\n",
      "94_혜화역.동성중고(장면총리가옥) <class 'str'>\n",
      "95_삼선교.한성대학교.조소앙활동터 <class 'str'>\n",
      "96_돈암사거리.성신여대입구 <class 'str'>\n",
      "97_미아리고개.미아리예술극장 <class 'str'>\n",
      "98_길음뉴타운 <class 'str'>\n",
      "99_월곡뉴타운 <class 'str'>\n",
      "100_숭곡초교입구 <class 'str'>\n",
      "101_창문여고 <class 'str'>\n",
      "102_동방고개 <class 'str'>\n",
      "103_장위동그린빌아파트 <class 'str'>\n",
      "104_북서울꿈의숲 <class 'str'>\n",
      "105_장월초등학교 <class 'str'>\n",
      "106_롯데캐슬루나아파트 <class 'str'>\n",
      "107_인덕대앞 <class 'str'>\n",
      "108_월계보건지소 <class 'str'>\n",
      "109_하계시영아파트 <class 'str'>\n",
      "110_하계장미아파트 <class 'str'>\n",
      "111_하계미성아파트.을지병원 <class 'str'>\n",
      "112_한성여객종점 <class 'str'>\n",
      "113_대진고등학교 <class 'str'>\n",
      "114_서울온천 <class 'str'>\n",
      "115_노원경찰서.혜성여고 <class 'str'>\n",
      "116_하계현대아파트 <class 'str'>\n",
      "117_롯데마트 <class 'str'>\n",
      "118_상명초등학교 <class 'str'>\n",
      "119_중계건영2차아파트 <class 'str'>\n",
      "120_중계역 <class 'str'>\n",
      "121_하계한신청구아파트 <class 'str'>\n",
      "122_한성여객종점 <class 'str'>\n"
     ]
    }
   ],
   "source": [
    "# 최소값이 0 인 column 체크\n",
    "\n",
    "for col in raw_df.columns:\n",
    "\n",
    "    if raw_df[col].min() == 0:\n",
    "        col_name = col\n",
    "        print(col_name, type(col_name))"
   ]
  },
  {
   "cell_type": "code",
   "execution_count": 11,
   "metadata": {
    "colab": {
     "base_uri": "https://localhost:8080/",
     "height": 615
    },
    "id": "-sjMP002VR5P",
    "outputId": "ac221fc0-a6c5-4d73-ec68-2f1e2562d288"
   },
   "outputs": [
    {
     "ename": "KeyError",
     "evalue": "'Volume'",
     "output_type": "error",
     "traceback": [
      "\u001b[1;31m---------------------------------------------------------------------------\u001b[0m",
      "\u001b[1;31mKeyError\u001b[0m                                  Traceback (most recent call last)",
      "\u001b[1;32m~\\anaconda3\\lib\\site-packages\\pandas\\core\\indexes\\base.py\u001b[0m in \u001b[0;36mget_loc\u001b[1;34m(self, key, method, tolerance)\u001b[0m\n\u001b[0;32m   3360\u001b[0m             \u001b[1;32mtry\u001b[0m\u001b[1;33m:\u001b[0m\u001b[1;33m\u001b[0m\u001b[1;33m\u001b[0m\u001b[0m\n\u001b[1;32m-> 3361\u001b[1;33m                 \u001b[1;32mreturn\u001b[0m \u001b[0mself\u001b[0m\u001b[1;33m.\u001b[0m\u001b[0m_engine\u001b[0m\u001b[1;33m.\u001b[0m\u001b[0mget_loc\u001b[0m\u001b[1;33m(\u001b[0m\u001b[0mcasted_key\u001b[0m\u001b[1;33m)\u001b[0m\u001b[1;33m\u001b[0m\u001b[1;33m\u001b[0m\u001b[0m\n\u001b[0m\u001b[0;32m   3362\u001b[0m             \u001b[1;32mexcept\u001b[0m \u001b[0mKeyError\u001b[0m \u001b[1;32mas\u001b[0m \u001b[0merr\u001b[0m\u001b[1;33m:\u001b[0m\u001b[1;33m\u001b[0m\u001b[1;33m\u001b[0m\u001b[0m\n",
      "\u001b[1;32m~\\anaconda3\\lib\\site-packages\\pandas\\_libs\\index.pyx\u001b[0m in \u001b[0;36mpandas._libs.index.IndexEngine.get_loc\u001b[1;34m()\u001b[0m\n",
      "\u001b[1;32m~\\anaconda3\\lib\\site-packages\\pandas\\_libs\\index.pyx\u001b[0m in \u001b[0;36mpandas._libs.index.IndexEngine.get_loc\u001b[1;34m()\u001b[0m\n",
      "\u001b[1;32mpandas\\_libs\\hashtable_class_helper.pxi\u001b[0m in \u001b[0;36mpandas._libs.hashtable.PyObjectHashTable.get_item\u001b[1;34m()\u001b[0m\n",
      "\u001b[1;32mpandas\\_libs\\hashtable_class_helper.pxi\u001b[0m in \u001b[0;36mpandas._libs.hashtable.PyObjectHashTable.get_item\u001b[1;34m()\u001b[0m\n",
      "\u001b[1;31mKeyError\u001b[0m: 'Volume'",
      "\nThe above exception was the direct cause of the following exception:\n",
      "\u001b[1;31mKeyError\u001b[0m                                  Traceback (most recent call last)",
      "\u001b[1;32m~\\AppData\\Local\\Temp/ipykernel_27252/3404329772.py\u001b[0m in \u001b[0;36m<module>\u001b[1;34m\u001b[0m\n\u001b[1;32m----> 1\u001b[1;33m \u001b[0mraw_df\u001b[0m\u001b[1;33m.\u001b[0m\u001b[0mloc\u001b[0m\u001b[1;33m[\u001b[0m\u001b[0mraw_df\u001b[0m\u001b[1;33m[\u001b[0m\u001b[1;34m'Volume'\u001b[0m\u001b[1;33m]\u001b[0m\u001b[1;33m==\u001b[0m\u001b[1;36m0\u001b[0m\u001b[1;33m]\u001b[0m\u001b[1;33m\u001b[0m\u001b[1;33m\u001b[0m\u001b[0m\n\u001b[0m",
      "\u001b[1;32m~\\anaconda3\\lib\\site-packages\\pandas\\core\\frame.py\u001b[0m in \u001b[0;36m__getitem__\u001b[1;34m(self, key)\u001b[0m\n\u001b[0;32m   3456\u001b[0m             \u001b[1;32mif\u001b[0m \u001b[0mself\u001b[0m\u001b[1;33m.\u001b[0m\u001b[0mcolumns\u001b[0m\u001b[1;33m.\u001b[0m\u001b[0mnlevels\u001b[0m \u001b[1;33m>\u001b[0m \u001b[1;36m1\u001b[0m\u001b[1;33m:\u001b[0m\u001b[1;33m\u001b[0m\u001b[1;33m\u001b[0m\u001b[0m\n\u001b[0;32m   3457\u001b[0m                 \u001b[1;32mreturn\u001b[0m \u001b[0mself\u001b[0m\u001b[1;33m.\u001b[0m\u001b[0m_getitem_multilevel\u001b[0m\u001b[1;33m(\u001b[0m\u001b[0mkey\u001b[0m\u001b[1;33m)\u001b[0m\u001b[1;33m\u001b[0m\u001b[1;33m\u001b[0m\u001b[0m\n\u001b[1;32m-> 3458\u001b[1;33m             \u001b[0mindexer\u001b[0m \u001b[1;33m=\u001b[0m \u001b[0mself\u001b[0m\u001b[1;33m.\u001b[0m\u001b[0mcolumns\u001b[0m\u001b[1;33m.\u001b[0m\u001b[0mget_loc\u001b[0m\u001b[1;33m(\u001b[0m\u001b[0mkey\u001b[0m\u001b[1;33m)\u001b[0m\u001b[1;33m\u001b[0m\u001b[1;33m\u001b[0m\u001b[0m\n\u001b[0m\u001b[0;32m   3459\u001b[0m             \u001b[1;32mif\u001b[0m \u001b[0mis_integer\u001b[0m\u001b[1;33m(\u001b[0m\u001b[0mindexer\u001b[0m\u001b[1;33m)\u001b[0m\u001b[1;33m:\u001b[0m\u001b[1;33m\u001b[0m\u001b[1;33m\u001b[0m\u001b[0m\n\u001b[0;32m   3460\u001b[0m                 \u001b[0mindexer\u001b[0m \u001b[1;33m=\u001b[0m \u001b[1;33m[\u001b[0m\u001b[0mindexer\u001b[0m\u001b[1;33m]\u001b[0m\u001b[1;33m\u001b[0m\u001b[1;33m\u001b[0m\u001b[0m\n",
      "\u001b[1;32m~\\anaconda3\\lib\\site-packages\\pandas\\core\\indexes\\base.py\u001b[0m in \u001b[0;36mget_loc\u001b[1;34m(self, key, method, tolerance)\u001b[0m\n\u001b[0;32m   3361\u001b[0m                 \u001b[1;32mreturn\u001b[0m \u001b[0mself\u001b[0m\u001b[1;33m.\u001b[0m\u001b[0m_engine\u001b[0m\u001b[1;33m.\u001b[0m\u001b[0mget_loc\u001b[0m\u001b[1;33m(\u001b[0m\u001b[0mcasted_key\u001b[0m\u001b[1;33m)\u001b[0m\u001b[1;33m\u001b[0m\u001b[1;33m\u001b[0m\u001b[0m\n\u001b[0;32m   3362\u001b[0m             \u001b[1;32mexcept\u001b[0m \u001b[0mKeyError\u001b[0m \u001b[1;32mas\u001b[0m \u001b[0merr\u001b[0m\u001b[1;33m:\u001b[0m\u001b[1;33m\u001b[0m\u001b[1;33m\u001b[0m\u001b[0m\n\u001b[1;32m-> 3363\u001b[1;33m                 \u001b[1;32mraise\u001b[0m \u001b[0mKeyError\u001b[0m\u001b[1;33m(\u001b[0m\u001b[0mkey\u001b[0m\u001b[1;33m)\u001b[0m \u001b[1;32mfrom\u001b[0m \u001b[0merr\u001b[0m\u001b[1;33m\u001b[0m\u001b[1;33m\u001b[0m\u001b[0m\n\u001b[0m\u001b[0;32m   3364\u001b[0m \u001b[1;33m\u001b[0m\u001b[0m\n\u001b[0;32m   3365\u001b[0m         \u001b[1;32mif\u001b[0m \u001b[0mis_scalar\u001b[0m\u001b[1;33m(\u001b[0m\u001b[0mkey\u001b[0m\u001b[1;33m)\u001b[0m \u001b[1;32mand\u001b[0m \u001b[0misna\u001b[0m\u001b[1;33m(\u001b[0m\u001b[0mkey\u001b[0m\u001b[1;33m)\u001b[0m \u001b[1;32mand\u001b[0m \u001b[1;32mnot\u001b[0m \u001b[0mself\u001b[0m\u001b[1;33m.\u001b[0m\u001b[0mhasnans\u001b[0m\u001b[1;33m:\u001b[0m\u001b[1;33m\u001b[0m\u001b[1;33m\u001b[0m\u001b[0m\n",
      "\u001b[1;31mKeyError\u001b[0m: 'Volume'"
     ]
    }
   ],
   "source": [
    "raw_df.loc[raw_df['Volume']==0]"
   ]
  },
  {
   "cell_type": "code",
   "execution_count": 6,
   "metadata": {
    "colab": {
     "base_uri": "https://localhost:8080/"
    },
    "id": "Ac7ieaSiUkYl",
    "outputId": "bd6ea968-6cd6-4bf8-f389-adce8de58858"
   },
   "outputs": [
    {
     "name": "stdout",
     "output_type": "stream",
     "text": [
      "Unnamed: 0: 0\n",
      "1_한성여객종점: 256\n",
      "2_노원평생학습관: 276\n",
      "3_서울시립북서울미술관: 131\n",
      "4_중계역: 132\n",
      "5_중계역2번출구: 83\n",
      "6_중계3단지목련아파트: 109\n",
      "7_목련아파트상가: 70\n",
      "8_중계목화아파트4단지: 79\n",
      "9_노원경찰서: 72\n",
      "10_하계1동주민센터: 77\n",
      "11_골마을근린공원: 70\n",
      "12_하계역: 71\n",
      "13_하계우성아파트: 70\n",
      "14_하계극동아파트: 72\n",
      "15_월계보건지소: 70\n",
      "16_인덕대학: 70\n",
      "17_월계주공108동앞롯데캐슬루나아파트: 70\n",
      "18_오현초등학교: 70\n",
      "19_꿈의숲주차장입구: 73\n",
      "20_북서울꿈의숲: 72\n",
      "21_송중동한일유엔아이: 73\n",
      "22_창문여고앞: 71\n",
      "23_숭곡초등학교입구: 70\n",
      "24_월곡뉴타운: 65\n",
      "25_길음뉴타운: 62\n",
      "26_미아리고개.미아리예술극장: 62\n",
      "27_돈암사거리.성신여대입구: 63\n",
      "28_삼선교.한성대학교: 62\n",
      "29_혜화동로터리.여운형활동터: 72\n",
      "30_명륜3가.성대입구: 59\n",
      "31_창경궁.서울대학교병원: 86\n",
      "32_원남동: 65\n",
      "33_광장시장: 76\n",
      "34_을지로4가: 67\n",
      "35_을지로3가: 59\n",
      "36_을지로2가.기업은행본점.서울노동청: 61\n",
      "37_롯데백화점: 59\n",
      "38_북창동.남대문시장: 83\n",
      "39_숭례문(가상): 168\n",
      "40_숭례문: 85\n",
      "41_서울역버스환승센터: 63\n",
      "42_갈월동: 71\n",
      "43_숙대입구역: 69\n",
      "44_삼각지역: 71\n",
      "45_KT용산지사: 91\n",
      "46_신용산역: 72\n",
      "47_한강대교북단.LG유플러스: 70\n",
      "48_이촌동동부센트레빌: 78\n",
      "49_이촌1동충신교회앞: 72\n",
      "50_이촌동한강맨션.이촌역: 73\n",
      "51_신용산초등학교: 75\n",
      "52_이촌동점보아파트: 77\n",
      "53_금강병원.반도아파트: 77\n",
      "54_서빙고신동아아파트: 80\n",
      "55_서빙고역1번출구: 76\n",
      "56_한강중학교: 88\n",
      "57_용산구청.크라운호텔: 93\n",
      "58_용산구청.크라운호텔: 113\n",
      "59_한강중학교: 135\n",
      "60_금호베스트빌앞: 205\n",
      "61_서빙고초등학교: 259\n",
      "62_서빙고역교차로: 173\n",
      "63_서빙고역1번출구: 97\n",
      "64_서빙고신동아아파트: 81\n",
      "65_이촌동현대아파트: 87\n",
      "66_이촌동강촌아파트: 76\n",
      "67_신용산초등학교: 80\n",
      "68_이촌동한가람아파트.이촌역: 73\n",
      "69_이촌동두산위브트레지움.한강대우아파트: 73\n",
      "70_한강대교북단.LG유플러스: 76\n",
      "71_신용산역: 84\n",
      "72_KT용산지사: 88\n",
      "73_삼각지역: 88\n",
      "74_숙대입구역: 78\n",
      "75_갈월동: 85\n",
      "76_서울역버스환승센터.강우규의거터: 76\n",
      "77_남대문시장앞.이회영활동터: 93\n",
      "78_롯데영프라자: 87\n",
      "79_을지로입구.로얄호텔: 91\n",
      "80_을지로2가.파인에빈뉴: 86\n",
      "81_을지로3가: 93\n",
      "82_을지로4가.베스트웨스턴국도: 90\n",
      "83_을지로5가.중부시장: 108\n",
      "84_을지로6가.국립중앙의료원: 102\n",
      "85_광희동: 96\n",
      "86_퇴계로6가: 95\n",
      "87_을지로5가.훈련원종합체육관: 108\n",
      "88_방산시장.훈련원종합체육관: 129\n",
      "89_종로5가: 95\n",
      "90_종로5가.효제초등학교: 97\n",
      "91_종로5가.효제동.김상옥의거터: 127\n",
      "92_방송통신대.이화장: 94\n",
      "93_혜화역.마로니에공원: 94\n",
      "94_혜화역.동성중고(장면총리가옥): 92\n",
      "95_삼선교.한성대학교.조소앙활동터: 85\n",
      "96_돈암사거리.성신여대입구: 84\n",
      "97_미아리고개.미아리예술극장: 84\n",
      "98_길음뉴타운: 84\n",
      "99_월곡뉴타운: 86\n",
      "100_숭곡초교입구: 88\n",
      "101_창문여고: 84\n",
      "102_동방고개: 90\n",
      "103_장위동그린빌아파트: 87\n",
      "104_북서울꿈의숲: 85\n",
      "105_장월초등학교: 85\n",
      "106_롯데캐슬루나아파트: 87\n",
      "107_인덕대앞: 85\n",
      "108_월계보건지소: 85\n",
      "109_하계시영아파트: 85\n",
      "110_하계장미아파트: 85\n",
      "111_하계미성아파트.을지병원: 87\n",
      "112_한성여객종점: 105\n",
      "113_대진고등학교: 95\n",
      "114_서울온천: 93\n",
      "115_노원경찰서.혜성여고: 95\n",
      "116_하계현대아파트: 102\n",
      "117_롯데마트: 116\n",
      "118_상명초등학교: 166\n",
      "119_중계건영2차아파트: 205\n",
      "120_중계역: 268\n",
      "121_하계한신청구아파트: 327\n",
      "122_한성여객종점: 336\n"
     ]
    }
   ],
   "source": [
    "# 각 column에 0 몇개인지 확인\n",
    "\n",
    "for col in raw_df.columns:\n",
    "\n",
    "    missing_rows = raw_df.loc[raw_df[col]==0].shape[0]\n",
    "    print(col + ': ' + str(missing_rows))"
   ]
  },
  {
   "cell_type": "code",
   "execution_count": 11,
   "metadata": {
    "colab": {
     "base_uri": "https://localhost:8080/"
    },
    "id": "EqPvPM4UVskp",
    "outputId": "2dc14df5-8ee0-44a5-bb88-1c45f547ffe7"
   },
   "outputs": [
    {
     "name": "stdout",
     "output_type": "stream",
     "text": [
      "Date: 0\n",
      "Open: 0\n",
      "High: 0\n",
      "Low: 0\n",
      "Close: 0\n",
      "Adj Close: 0\n",
      "Volume: 0\n",
      "3MA: 0\n",
      "5MA: 0\n"
     ]
    }
   ],
   "source": [
    "# 먼저 0 을 NaN 으로 바꾼후, Missing Data 처리\n",
    "\n",
    "raw_df['Volume'] = raw_df['Volume'].replace(0, np.nan)\n",
    "\n",
    "# 각 column에 0 몇개인지 확인\n",
    "\n",
    "for col in raw_df.columns:\n",
    "\n",
    "    missing_rows = raw_df.loc[raw_df[col]==0].shape[0]\n",
    "    print(col + ': ' + str(missing_rows))"
   ]
  },
  {
   "cell_type": "code",
   "execution_count": 12,
   "metadata": {
    "colab": {
     "base_uri": "https://localhost:8080/"
    },
    "id": "BJ2attPDfw3E",
    "outputId": "11e7b57e-3242-47d4-f4a5-57612a726a52"
   },
   "outputs": [
    {
     "data": {
      "text/plain": [
       "Date           0\n",
       "Open           6\n",
       "High           6\n",
       "Low            6\n",
       "Close          6\n",
       "Adj Close      6\n",
       "Volume       122\n",
       "3MA            2\n",
       "5MA            4\n",
       "dtype: int64"
      ]
     },
     "execution_count": 12,
     "metadata": {},
     "output_type": "execute_result"
    }
   ],
   "source": [
    "# missing data 확인\n",
    "\n",
    "raw_df.isnull().sum()"
   ]
  },
  {
   "cell_type": "code",
   "execution_count": 13,
   "metadata": {
    "colab": {
     "base_uri": "https://localhost:8080/"
    },
    "id": "l470iWLyhhzF",
    "outputId": "d0ccc011-4133-45a7-eed9-761265bfdfac"
   },
   "outputs": [
    {
     "data": {
      "text/plain": [
       "Date         False\n",
       "Open          True\n",
       "High          True\n",
       "Low           True\n",
       "Close         True\n",
       "Adj Close     True\n",
       "Volume        True\n",
       "3MA           True\n",
       "5MA           True\n",
       "dtype: bool"
      ]
     },
     "execution_count": 13,
     "metadata": {},
     "output_type": "execute_result"
    }
   ],
   "source": [
    "raw_df.isnull().any()"
   ]
  },
  {
   "cell_type": "code",
   "execution_count": 14,
   "metadata": {
    "colab": {
     "base_uri": "https://localhost:8080/",
     "height": 237
    },
    "id": "Ves_xphWh182",
    "outputId": "8d32d8b7-7a2a-4800-892d-f5f7b2692f26"
   },
   "outputs": [
    {
     "data": {
      "text/html": [
       "<div>\n",
       "<style scoped>\n",
       "    .dataframe tbody tr th:only-of-type {\n",
       "        vertical-align: middle;\n",
       "    }\n",
       "\n",
       "    .dataframe tbody tr th {\n",
       "        vertical-align: top;\n",
       "    }\n",
       "\n",
       "    .dataframe thead th {\n",
       "        text-align: right;\n",
       "    }\n",
       "</style>\n",
       "<table border=\"1\" class=\"dataframe\">\n",
       "  <thead>\n",
       "    <tr style=\"text-align: right;\">\n",
       "      <th></th>\n",
       "      <th>Date</th>\n",
       "      <th>Open</th>\n",
       "      <th>High</th>\n",
       "      <th>Low</th>\n",
       "      <th>Close</th>\n",
       "      <th>Adj Close</th>\n",
       "      <th>Volume</th>\n",
       "      <th>3MA</th>\n",
       "      <th>5MA</th>\n",
       "    </tr>\n",
       "  </thead>\n",
       "  <tbody>\n",
       "    <tr>\n",
       "      <th>1304</th>\n",
       "      <td>2005-01-03</td>\n",
       "      <td>NaN</td>\n",
       "      <td>NaN</td>\n",
       "      <td>NaN</td>\n",
       "      <td>NaN</td>\n",
       "      <td>NaN</td>\n",
       "      <td>NaN</td>\n",
       "      <td>6989.931152</td>\n",
       "      <td>6910.412353</td>\n",
       "    </tr>\n",
       "    <tr>\n",
       "      <th>4513</th>\n",
       "      <td>2017-11-16</td>\n",
       "      <td>NaN</td>\n",
       "      <td>NaN</td>\n",
       "      <td>NaN</td>\n",
       "      <td>NaN</td>\n",
       "      <td>NaN</td>\n",
       "      <td>NaN</td>\n",
       "      <td>49382.673830</td>\n",
       "      <td>49719.997070</td>\n",
       "    </tr>\n",
       "    <tr>\n",
       "      <th>4518</th>\n",
       "      <td>2017-11-23</td>\n",
       "      <td>NaN</td>\n",
       "      <td>NaN</td>\n",
       "      <td>NaN</td>\n",
       "      <td>NaN</td>\n",
       "      <td>NaN</td>\n",
       "      <td>NaN</td>\n",
       "      <td>49373.792970</td>\n",
       "      <td>49324.969730</td>\n",
       "    </tr>\n",
       "    <tr>\n",
       "      <th>4542</th>\n",
       "      <td>2018-01-02</td>\n",
       "      <td>NaN</td>\n",
       "      <td>NaN</td>\n",
       "      <td>NaN</td>\n",
       "      <td>NaN</td>\n",
       "      <td>NaN</td>\n",
       "      <td>NaN</td>\n",
       "      <td>44927.763670</td>\n",
       "      <td>44190.302730</td>\n",
       "    </tr>\n",
       "    <tr>\n",
       "      <th>4755</th>\n",
       "      <td>2018-11-15</td>\n",
       "      <td>NaN</td>\n",
       "      <td>NaN</td>\n",
       "      <td>NaN</td>\n",
       "      <td>NaN</td>\n",
       "      <td>NaN</td>\n",
       "      <td>NaN</td>\n",
       "      <td>40569.835940</td>\n",
       "      <td>40775.886720</td>\n",
       "    </tr>\n",
       "    <tr>\n",
       "      <th>5000</th>\n",
       "      <td>2019-11-14</td>\n",
       "      <td>NaN</td>\n",
       "      <td>NaN</td>\n",
       "      <td>NaN</td>\n",
       "      <td>NaN</td>\n",
       "      <td>NaN</td>\n",
       "      <td>NaN</td>\n",
       "      <td>49695.419920</td>\n",
       "      <td>49364.432620</td>\n",
       "    </tr>\n",
       "  </tbody>\n",
       "</table>\n",
       "</div>"
      ],
      "text/plain": [
       "            Date  Open  High  Low  Close  Adj Close  Volume           3MA  \\\n",
       "1304  2005-01-03   NaN   NaN  NaN    NaN        NaN     NaN   6989.931152   \n",
       "4513  2017-11-16   NaN   NaN  NaN    NaN        NaN     NaN  49382.673830   \n",
       "4518  2017-11-23   NaN   NaN  NaN    NaN        NaN     NaN  49373.792970   \n",
       "4542  2018-01-02   NaN   NaN  NaN    NaN        NaN     NaN  44927.763670   \n",
       "4755  2018-11-15   NaN   NaN  NaN    NaN        NaN     NaN  40569.835940   \n",
       "5000  2019-11-14   NaN   NaN  NaN    NaN        NaN     NaN  49695.419920   \n",
       "\n",
       "               5MA  \n",
       "1304   6910.412353  \n",
       "4513  49719.997070  \n",
       "4518  49324.969730  \n",
       "4542  44190.302730  \n",
       "4755  40775.886720  \n",
       "5000  49364.432620  "
      ]
     },
     "execution_count": 14,
     "metadata": {},
     "output_type": "execute_result"
    }
   ],
   "source": [
    "raw_df.loc[raw_df['Open'].isna()]"
   ]
  },
  {
   "cell_type": "code",
   "execution_count": 15,
   "metadata": {
    "colab": {
     "base_uri": "https://localhost:8080/"
    },
    "id": "eIKrl7HwjxUh",
    "outputId": "6ecc1594-76e9-46d9-d45e-e5285cbd3e1b"
   },
   "outputs": [
    {
     "data": {
      "text/plain": [
       "Date         0\n",
       "Open         0\n",
       "High         0\n",
       "Low          0\n",
       "Close        0\n",
       "Adj Close    0\n",
       "Volume       0\n",
       "3MA          0\n",
       "5MA          0\n",
       "dtype: int64"
      ]
     },
     "execution_count": 15,
     "metadata": {},
     "output_type": "execute_result"
    }
   ],
   "source": [
    "# missing data 처리\n",
    "\n",
    "raw_df = raw_df.dropna()\n",
    "\n",
    "raw_df.isnull().sum()"
   ]
  },
  {
   "cell_type": "code",
   "execution_count": 7,
   "metadata": {
    "colab": {
     "base_uri": "https://localhost:8080/"
    },
    "id": "pWjPDWKXz1Ap",
    "outputId": "e5a4b2fa-7ad6-4c20-8918-891148c16650",
    "scrolled": true
   },
   "outputs": [
    {
     "name": "stdout",
     "output_type": "stream",
     "text": [
      "     1_한성여객종점  2_노원평생학습관  3_서울시립북서울미술관   4_중계역  5_중계역2번출구  6_중계3단지목련아파트  \\\n",
      "0         0.8       0.00      0.133333  0.2500   0.235294      0.470588   \n",
      "1         0.0       0.00      0.000000  0.0625   0.117647      0.117647   \n",
      "2         0.0       0.00      0.133333  0.0625   0.176471      0.294118   \n",
      "3         0.2       0.25      0.400000  0.5000   0.823529      0.588235   \n",
      "4         0.2       0.25      0.133333  0.0625   0.470588      0.529412   \n",
      "..        ...        ...           ...     ...        ...           ...   \n",
      "331       0.0       0.00      0.000000  0.0000   0.000000      0.000000   \n",
      "332       0.0       0.00      0.000000  0.0000   0.000000      0.000000   \n",
      "333       0.0       0.00      0.000000  0.0000   0.000000      0.000000   \n",
      "334       0.0       0.00      0.000000  0.0000   0.000000      0.000000   \n",
      "335       0.0       0.00      0.000000  0.0000   0.000000      0.000000   \n",
      "\n",
      "     7_목련아파트상가  8_중계목화아파트4단지   9_노원경찰서  10_하계1동주민센터  ...  113_대진고등학교  \\\n",
      "0         0.55      0.590909  0.516129     0.264706  ...    0.000000   \n",
      "1         0.10      0.181818  0.258065     0.264706  ...    0.000000   \n",
      "2         0.40      0.545455  0.548387     0.529412  ...    0.166667   \n",
      "3         0.65      0.909091  0.741935     0.735294  ...    1.000000   \n",
      "4         0.70      0.681818  0.612903     0.617647  ...    0.625000   \n",
      "..         ...           ...       ...          ...  ...         ...   \n",
      "331       0.00      0.000000  0.000000     0.000000  ...    0.250000   \n",
      "332       0.00      0.000000  0.000000     0.000000  ...    0.000000   \n",
      "333       0.00      0.000000  0.000000     0.000000  ...    0.000000   \n",
      "334       0.00      0.000000  0.000000     0.000000  ...    0.000000   \n",
      "335       0.00      0.000000  0.000000     0.000000  ...    0.000000   \n",
      "\n",
      "     114_서울온천  115_노원경찰서.혜성여고  116_하계현대아파트  117_롯데마트  118_상명초등학교  \\\n",
      "0    0.000000        0.000000     0.000000  0.000000    0.000000   \n",
      "1    0.000000        0.000000     0.000000  0.000000    0.000000   \n",
      "2    0.142857        0.133333     0.083333  0.000000    0.000000   \n",
      "3    0.666667        0.533333     0.583333  0.555556    0.285714   \n",
      "4    0.571429        0.533333     0.583333  0.555556    0.571429   \n",
      "..        ...             ...          ...       ...         ...   \n",
      "331  0.190476        0.133333     0.166667  0.111111    0.000000   \n",
      "332  0.000000        0.000000     0.000000  0.000000    0.000000   \n",
      "333  0.000000        0.000000     0.000000  0.000000    0.000000   \n",
      "334  0.000000        0.000000     0.000000  0.000000    0.000000   \n",
      "335  0.000000        0.000000     0.000000  0.000000    0.000000   \n",
      "\n",
      "     119_중계건영2차아파트   120_중계역  121_하계한신청구아파트  122_한성여객종점  \n",
      "0         0.000000  0.000000            0.0         0.0  \n",
      "1         0.000000  0.000000            0.0         0.0  \n",
      "2         0.000000  0.000000            0.0         0.0  \n",
      "3         0.166667  0.000000            0.0         0.0  \n",
      "4         0.333333  0.000000            0.0         0.0  \n",
      "..             ...       ...            ...         ...  \n",
      "331       0.000000  0.333333            0.0         0.0  \n",
      "332       0.000000  0.000000            0.0         0.0  \n",
      "333       0.000000  0.000000            0.0         0.0  \n",
      "334       0.000000  0.000000            0.0         0.0  \n",
      "335       0.000000  0.000000            0.0         0.0  \n",
      "\n",
      "[336 rows x 122 columns]\n"
     ]
    }
   ],
   "source": [
    "# 정규화 (Date 제외한 모든 수치부분 정규화)\n",
    "\n",
    "from sklearn.preprocessing import MinMaxScaler\n",
    "scaler = MinMaxScaler()\n",
    "columns = list(raw_df.columns)\n",
    "del columns[0]\n",
    "scale_cols = list(columns)\n",
    "\n",
    "scaled_df = scaler.fit_transform(raw_df[scale_cols])\n",
    "\n",
    "scaled_df = pd.DataFrame(scaled_df, columns=scale_cols)\n",
    "\n",
    "print(scaled_df)"
   ]
  },
  {
   "cell_type": "markdown",
   "metadata": {
    "id": "XEocuNgdjv9f"
   },
   "source": [
    "주가예측을 위해 3MA, 5MA, Adj Close 항목을 feature 선정\n",
    " - 정답은 Adj Close 선정\n",
    " - 시계열 데이터를 위한 window_size = 40 선정"
   ]
  },
  {
   "cell_type": "code",
   "execution_count": 11,
   "metadata": {
    "id": "_Dekc31jpHlz"
   },
   "outputs": [],
   "source": [
    "# 입력 파라미터 feature, label => numpy type\n",
    "\n",
    "def make_sequene_dataset(feature, label, window_size):\n",
    "\n",
    "    feature_list = []      # 생성될 feature list\n",
    "    label_list = []        # 생성될 label list\n",
    "\n",
    "    for i in range(len(feature)-window_size):\n",
    "\n",
    "        feature_list.append(feature[i:i+window_size])\n",
    "        label_list.append(label[i+window_size])\n",
    "\n",
    "    return np.array(feature_list), np.array(label_list)"
   ]
  },
  {
   "cell_type": "code",
   "execution_count": 33,
   "metadata": {
    "id": "xB3BIwF-nPrw"
   },
   "outputs": [],
   "source": [
    "# feature_df, label_df 생성\n",
    "\n",
    "feature_cols = ['2_노원평생학습관', '3_서울시립북서울미술관', '4_중계역', '5_중계역2번출구', '6_중계3단지목련아파트', '7_목련아파트상가', '8_중계목화아파트4단지']\n",
    "label_cols = [ '6_중계3단지목련아파트' ]\n",
    "\n",
    "feature_df = pd.DataFrame(scaled_df, columns=feature_cols)\n",
    "label_df = pd.DataFrame(scaled_df, columns=label_cols)"
   ]
  },
  {
   "cell_type": "code",
   "execution_count": 34,
   "metadata": {
    "colab": {
     "base_uri": "https://localhost:8080/"
    },
    "id": "DWutUAPSn62i",
    "outputId": "2db9d6df-67f9-4b29-beaa-22282c999635"
   },
   "outputs": [
    {
     "name": "stdout",
     "output_type": "stream",
     "text": [
      "(336, 7) (336, 1)\n"
     ]
    }
   ],
   "source": [
    "# DataFrame => Numpy 변환\n",
    "\n",
    "feature_np = feature_df.to_numpy()\n",
    "label_np = label_df.to_numpy()\n",
    "\n",
    "print(feature_np.shape, label_np.shape)"
   ]
  },
  {
   "cell_type": "markdown",
   "metadata": {
    "id": "fvHj457p-dzb"
   },
   "source": [
    "시계열 데이터 생성 (make_sequence_dataset)"
   ]
  },
  {
   "cell_type": "code",
   "execution_count": 35,
   "metadata": {
    "colab": {
     "base_uri": "https://localhost:8080/"
    },
    "id": "aCTkuL3bn_8-",
    "outputId": "5e11f5a8-f38f-4d95-8ddf-26220bb7d614"
   },
   "outputs": [
    {
     "name": "stdout",
     "output_type": "stream",
     "text": [
      "(312, 24, 7) (312, 1)\n"
     ]
    }
   ],
   "source": [
    "window_size =24\n",
    "\n",
    "X, Y = make_sequene_dataset(feature_np, label_np, window_size)\n",
    "\n",
    "print(X.shape, Y.shape)"
   ]
  },
  {
   "cell_type": "code",
   "execution_count": null,
   "metadata": {},
   "outputs": [],
   "source": []
  },
  {
   "cell_type": "markdown",
   "metadata": {
    "id": "6wTuyxnw-ZNC"
   },
   "source": [
    "학습데이터, 테스트데이터 생성"
   ]
  },
  {
   "cell_type": "code",
   "execution_count": 36,
   "metadata": {
    "colab": {
     "base_uri": "https://localhost:8080/"
    },
    "id": "pDekSzzpoIiO",
    "outputId": "c468f44f-1d94-4d2b-8d13-e273b5ed4c8f"
   },
   "outputs": [
    {
     "name": "stdout",
     "output_type": "stream",
     "text": [
      "(288, 24, 7) (288, 1)\n",
      "(24, 24, 7) (24, 1)\n"
     ]
    }
   ],
   "source": [
    "# train, test 분리\n",
    "\n",
    "#split = int(len(X)*0.95)\n",
    "split = -24\n",
    "\n",
    "x_train = X[0:split]\n",
    "y_train = Y[0:split]\n",
    "\n",
    "x_test = X[split:]\n",
    "y_test = Y[split:]\n",
    "\n",
    "print(x_train.shape, y_train.shape)\n",
    "print(x_test.shape, y_test.shape)"
   ]
  },
  {
   "cell_type": "markdown",
   "metadata": {
    "id": "Sc9d9NJB-jV0"
   },
   "source": [
    "모델 구축 및 컴파일"
   ]
  },
  {
   "cell_type": "code",
   "execution_count": 38,
   "metadata": {
    "id": "s66hRSnAoK0D"
   },
   "outputs": [],
   "source": [
    "# model 생성\n",
    "\n",
    "model = Sequential()\n",
    "\n",
    "model.add(LSTM(128, activation='tanh', input_shape=x_train[0].shape))\n",
    "\n",
    "model.add(Dense(1, activation='linear'))"
   ]
  },
  {
   "cell_type": "code",
   "execution_count": 39,
   "metadata": {
    "colab": {
     "base_uri": "https://localhost:8080/"
    },
    "id": "yBlP2iimoNay",
    "outputId": "efbb3881-2d1c-4102-f0a1-cb54f0b80827"
   },
   "outputs": [
    {
     "name": "stdout",
     "output_type": "stream",
     "text": [
      "Model: \"sequential_3\"\n",
      "_________________________________________________________________\n",
      " Layer (type)                Output Shape              Param #   \n",
      "=================================================================\n",
      " lstm_3 (LSTM)               (None, 128)               69632     \n",
      "                                                                 \n",
      " dense_3 (Dense)             (None, 1)                 129       \n",
      "                                                                 \n",
      "=================================================================\n",
      "Total params: 69,761\n",
      "Trainable params: 69,761\n",
      "Non-trainable params: 0\n",
      "_________________________________________________________________\n"
     ]
    }
   ],
   "source": [
    "model.compile(loss='mse', optimizer='adam', metrics=['mae'])\n",
    "\n",
    "model.summary()"
   ]
  },
  {
   "cell_type": "markdown",
   "metadata": {
    "id": "t_9GD7Vg-mHw"
   },
   "source": [
    "모델 학습 (EarlyStopping 적용)"
   ]
  },
  {
   "cell_type": "code",
   "execution_count": 40,
   "metadata": {
    "colab": {
     "base_uri": "https://localhost:8080/"
    },
    "id": "xpAYLcPHoPUd",
    "outputId": "f164a48b-7565-4e50-d8d7-3ea619363e5d",
    "scrolled": false
   },
   "outputs": [
    {
     "name": "stdout",
     "output_type": "stream",
     "text": [
      "Epoch 1/100\n",
      "18/18 [==============================] - 2s 38ms/step - loss: 0.0306 - mae: 0.1354 - val_loss: 0.0540 - val_mae: 0.1477\n",
      "Epoch 2/100\n",
      "18/18 [==============================] - 0s 13ms/step - loss: 0.0222 - mae: 0.1117 - val_loss: 0.0514 - val_mae: 0.1459\n",
      "Epoch 3/100\n",
      "18/18 [==============================] - 0s 13ms/step - loss: 0.0198 - mae: 0.1013 - val_loss: 0.0483 - val_mae: 0.1525\n",
      "Epoch 4/100\n",
      "18/18 [==============================] - 0s 13ms/step - loss: 0.0202 - mae: 0.1041 - val_loss: 0.0483 - val_mae: 0.1512\n",
      "Epoch 5/100\n",
      "18/18 [==============================] - 0s 12ms/step - loss: 0.0201 - mae: 0.1013 - val_loss: 0.0478 - val_mae: 0.1496\n",
      "Epoch 6/100\n",
      "18/18 [==============================] - 0s 21ms/step - loss: 0.0192 - mae: 0.0987 - val_loss: 0.0462 - val_mae: 0.1488\n",
      "Epoch 7/100\n",
      "18/18 [==============================] - 0s 12ms/step - loss: 0.0184 - mae: 0.0994 - val_loss: 0.0505 - val_mae: 0.1384\n",
      "Epoch 8/100\n",
      "18/18 [==============================] - 0s 12ms/step - loss: 0.0188 - mae: 0.0987 - val_loss: 0.0446 - val_mae: 0.1457\n",
      "Epoch 9/100\n",
      "18/18 [==============================] - 0s 11ms/step - loss: 0.0186 - mae: 0.0985 - val_loss: 0.0495 - val_mae: 0.1371\n",
      "Epoch 10/100\n",
      "18/18 [==============================] - 0s 12ms/step - loss: 0.0190 - mae: 0.0974 - val_loss: 0.0443 - val_mae: 0.1451\n",
      "Epoch 11/100\n",
      "18/18 [==============================] - 0s 13ms/step - loss: 0.0182 - mae: 0.0968 - val_loss: 0.0444 - val_mae: 0.1374\n",
      "Epoch 12/100\n",
      "18/18 [==============================] - 0s 13ms/step - loss: 0.0180 - mae: 0.0945 - val_loss: 0.0409 - val_mae: 0.1448\n",
      "Epoch 13/100\n",
      "18/18 [==============================] - 0s 12ms/step - loss: 0.0186 - mae: 0.0984 - val_loss: 0.0449 - val_mae: 0.1386\n",
      "Epoch 14/100\n",
      "18/18 [==============================] - 0s 12ms/step - loss: 0.0175 - mae: 0.0932 - val_loss: 0.0407 - val_mae: 0.1392\n",
      "Epoch 15/100\n",
      "18/18 [==============================] - 0s 15ms/step - loss: 0.0184 - mae: 0.0983 - val_loss: 0.0460 - val_mae: 0.1313\n",
      "Epoch 16/100\n",
      "18/18 [==============================] - 0s 12ms/step - loss: 0.0177 - mae: 0.0948 - val_loss: 0.0418 - val_mae: 0.1312\n",
      "Epoch 17/100\n",
      "18/18 [==============================] - 0s 12ms/step - loss: 0.0178 - mae: 0.0944 - val_loss: 0.0418 - val_mae: 0.1428\n",
      "Epoch 18/100\n",
      "18/18 [==============================] - 0s 12ms/step - loss: 0.0186 - mae: 0.0971 - val_loss: 0.0432 - val_mae: 0.1340\n",
      "Epoch 19/100\n",
      "18/18 [==============================] - 0s 12ms/step - loss: 0.0180 - mae: 0.0973 - val_loss: 0.0428 - val_mae: 0.1383\n"
     ]
    },
    {
     "data": {
      "text/plain": [
       "<keras.callbacks.History at 0x25621e27310>"
      ]
     },
     "execution_count": 40,
     "metadata": {},
     "output_type": "execute_result"
    }
   ],
   "source": [
    "from tensorflow.keras.callbacks import EarlyStopping\n",
    "\n",
    "early_stop = EarlyStopping(monitor='val_loss', patience=5)\n",
    "\n",
    "model.fit(x_train, y_train, \n",
    "          validation_data=(x_test, y_test),\n",
    "          epochs=100, batch_size=16,\n",
    "          callbacks=[early_stop])"
   ]
  },
  {
   "cell_type": "markdown",
   "metadata": {
    "id": "CN5J-MPa-q9_"
   },
   "source": [
    "예측을 통한 정답과의 비교 \n",
    "(오차계산 MAPE 사용, 평균절대값백분율오차)"
   ]
  },
  {
   "cell_type": "code",
   "execution_count": 41,
   "metadata": {
    "colab": {
     "base_uri": "https://localhost:8080/",
     "height": 395
    },
    "id": "iUUCbGgQoSQ1",
    "outputId": "332d3e48-e096-4148-ebc9-35b7d4f05b3b"
   },
   "outputs": [
    {
     "data": {
      "image/png": "[encoded data removed]",
      "text/plain": [
       "<Figure size 864x432 with 1 Axes>"
      ]
     },
     "metadata": {
      "needs_background": "light"
     },
     "output_type": "display_data"
    }
   ],
   "source": [
    "pred = model.predict(x_test)\n",
    "\n",
    "plt.figure(figsize=(12, 6))\n",
    "plt.title('3MA + 5MA + Adj Close, window_size=40')\n",
    "plt.ylabel('adj close')\n",
    "plt.xlabel('period')\n",
    "plt.plot(y_test, label='actual')\n",
    "plt.plot(pred, label='prediction')\n",
    "plt.grid()\n",
    "plt.legend(loc='best')\n",
    "\n",
    "plt.show()"
   ]
  },
  {
   "cell_type": "code",
   "execution_count": 32,
   "metadata": {
    "colab": {
     "base_uri": "https://localhost:8080/"
    },
    "id": "3rpiFjKRoZlk",
    "outputId": "6224ac98-867b-48f3-87cf-fb18835c3fd4"
   },
   "outputs": [
    {
     "name": "stdout",
     "output_type": "stream",
     "text": [
      "0.02175000971541701\n"
     ]
    }
   ],
   "source": [
    "# 평균절대값백분율오차계산 (MAPE)\n",
    "\n",
    "print( np.sum(abs(y_test-pred)/y_test) / len(x_test) )"
   ]
  },
  {
   "cell_type": "code",
   "execution_count": null,
   "metadata": {},
   "outputs": [],
   "source": []
  }
 ],
 "metadata": {
  "accelerator": "GPU",
  "colab": {
   "collapsed_sections": [],
   "name": "TF_2_x_LEC_21_LSTM_Example.ipynb",
   "provenance": []
  },
  "kernelspec": {
   "display_name": "Python 3 (ipykernel)",
   "language": "python",
   "name": "python3"
  },
  "language_info": {
   "codemirror_mode": {
    "name": "ipython",
    "version": 3
   },
   "file_extension": ".py",
   "mimetype": "text/x-python",
   "name": "python",
   "nbconvert_exporter": "python",
   "pygments_lexer": "ipython3",
   "version": "3.9.7"
  }
 },
 "nbformat": 4,
 "nbformat_minor": 1
}
